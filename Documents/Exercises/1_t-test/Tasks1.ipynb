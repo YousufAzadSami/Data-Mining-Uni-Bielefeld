{
 "cells": [
  {
   "cell_type": "markdown",
   "metadata": {},
   "source": [
    "<table style=\"width:100%; border:0\" cellspacing=\"0\" cellpadding=\"0\" border=\"0\" align=\"left|left|right\">\n",
    "  <tr style=\"border:0\">\n",
    "  <td style=\"border: 0; font-size:30px\" rowspan=\"3\"><b>Universität Bielefeld</b></td>\n",
    "    <td style=\"border: 0\">CITEC / Faculty of Technology</td>\n",
    "    <td style=\"border: 0\">Sekretariat: S. Strunk</td>\n",
    "  </tr>\n",
    "  <tr style=\"border:0\">\n",
    "    <td style=\"border: 0\">Ambient Intelligence Group</td>\n",
    "    <td style=\"border: 0\" align=\"right\">O\u001e",
    "ffice: CITEC-3.311</td>\n",
    "  </tr>\n",
    "  <tr style=\"border:0\">\n",
    "    <td style=\"border: 0\">Dr. Thomas Hermann</td>\n",
    "    <td style=\"border: 0\">106-6891</td>\n",
    "  </tr>\n",
    "</table>"
   ]
  },
  {
   "cell_type": "markdown",
   "metadata": {},
   "source": [
    "#### <center>Exercises of the lecture \"Introduction to Data Mining\"</center><br/> <center>WS 2018/2019 Exercise sheet 1</center>"
   ]
  },
  {
   "cell_type": "markdown",
   "metadata": {},
   "source": [
    "# <center>- Introduction -</center>"
   ]
  },
  {
   "cell_type": "markdown",
   "metadata": {},
   "source": [
    "<b>The GZI offers Python and SciPy Tools, which you can use in order to solve the following tasks. \n",
    "  Python is a mighty, yet easy to use programming language. \n",
    "  Also it is very suitable to implement komplex processes fast and comprehensibly.\n",
    "  Scipy is a scientific library for Python.</b>\n",
    "\n",
    "<b>More information as well as a diversity of introductions examples and tutorials on Python and SciPy can be found at\n",
    "  http://www.python.org and http://www.scipy.org.</b>\n",
    "  \n",
    "<b>If you have problems solving Problems 1.1 and 1.2 or are programming in Python for the first time, please consider doing the additional problems first. These are not relevant for the exam though.</b>"
   ]
  },
  {
   "cell_type": "markdown",
   "metadata": {},
   "source": [
    "### Problem 1.1, Data representation"
   ]
  },
  {
   "cell_type": "markdown",
   "metadata": {},
   "source": [
    "In the data mining and machine learning communities datasets are commonly represented as matrices.\n",
    "The rows of the matrix usually correspond to the data points and the columns correspond to the dimensions.\n",
    "If available the first column contains a class label.\n",
    "\n",
    "Your task is to create a normally distributed two-dimensional dataset of 100 data points, where the first dimension is defined by\n",
    "\\begin{eqnarray*}\n",
    "\\mu_1 & = & 0, ~~\\sigma_1 = 1\n",
    "\\end{eqnarray*}\n",
    "\n",
    "and the second dimension by\n",
    "\n",
    "\\begin{eqnarray*}\n",
    "\\mu_2 & = & 0.1,~~\\sigma_2 = 1\n",
    "\\end{eqnarray*} "
   ]
  },
  {
   "cell_type": "code",
   "execution_count": null,
   "metadata": {},
   "outputs": [],
   "source": []
  },
  {
   "cell_type": "markdown",
   "metadata": {},
   "source": [
    "### Problem 1.2, Student-t Test"
   ]
  },
  {
   "cell_type": "markdown",
   "metadata": {},
   "source": [
    "Implement the t-test in form of a python-function. \n",
    "\n",
    "<b>a)</b> Test the <i>null hypothesis</i>, that the <i>mean values</i> of the underlying distributions of the example data created in Problem 1.1 are equal.\n",
    "Can you reject the null hypothesis with a significance of 0.05?\n",
    "How about a significance of 0.01?\n",
    "\n",
    "<!--<b>b)</b> SciPy's module <tt>stats</tt> offers an implementation of the t-test aswell.\n",
    "Check, if your implementation provides the same results as the SciPy one!-->\n",
    "\n",
    "<b>b)</b> Create two samples $X_A$ and $X_B$ of $p(x) = \\mathcal{N}(x; 0, 1)$ each including 10 examples and calculate\n",
    "\n",
    "$$t = \\frac{\\widehat{\\mu}_A-\\widehat{\\mu}_B}{\\sigma_{err}}.$$\n",
    "\n",
    "Repeat this experiment $N$ times (with $N > 1000$) and plot a histogram of the set of the calculated $t$ with $\\sqrt{N}$ bins. What can be observed?\n",
    "\n",
    "For the solution of this task use <tt>pylab.hist</tt>!"
   ]
  },
  {
   "cell_type": "code",
   "execution_count": null,
   "metadata": {},
   "outputs": [],
   "source": [
    "%pylab inline\n"
   ]
  },
  {
   "cell_type": "markdown",
   "metadata": {},
   "source": [
    "### Additional Problem 1.1, Scalar Product"
   ]
  },
  {
   "cell_type": "markdown",
   "metadata": {},
   "source": [
    "Implement a function <tt>scalar_prod(x, y)</tt> which calculates the scalar product of two arrays."
   ]
  },
  {
   "cell_type": "code",
   "execution_count": null,
   "metadata": {},
   "outputs": [],
   "source": []
  },
  {
   "cell_type": "markdown",
   "metadata": {},
   "source": [
    "### Additional Problem 1.2, Gaussian density function"
   ]
  },
  {
   "cell_type": "markdown",
   "metadata": {},
   "source": [
    "Implement a function <tt>gauss_df(x, mue, sigma)</tt> that calculates a normal distribution $$p(x)=\\frac{1}{\\sigma\\sqrt{2\\pi}}\\exp\\left(-\\frac{1}{2}\\left(\\frac{x-\\mu}{\\sigma}\\right)^2\\right)$$ \n",
    "Also plot the results using <tt>pylab.plot()</tt>"
   ]
  },
  {
   "cell_type": "code",
   "execution_count": null,
   "metadata": {},
   "outputs": [],
   "source": []
  },
  {
   "cell_type": "markdown",
   "metadata": {},
   "source": [
    "### Additional Problem 1.3, Iris-Dataset"
   ]
  },
  {
   "cell_type": "markdown",
   "metadata": {},
   "source": [
    "Load the Iris-Dataset[1] using Python and create a scatter plot of it with <tt>pylab.plot()</tt><br/>\n",
    "[1] You can find the Iris-Dataset <tt>iris.txt</tt> in the e-Learning space (Lernraum) of the ekVV."
   ]
  },
  {
   "cell_type": "code",
   "execution_count": null,
   "metadata": {},
   "outputs": [],
   "source": []
  },
  {
   "cell_type": "markdown",
   "metadata": {},
   "source": [
    "<table style=\"width:100%; border:0;font-size:10px\" cellspacing=\"0\" cellpadding=\"0\" border=\"0\" align=\"left|left|right\">\n",
    "  <tr style=\"border:0\">\n",
    "    <td style=\"border: 0\">Thomas Hermann (thermann@techfak)</td>\n",
    "    <td style=\"border: 0\">Lecture Wed 12-14, CITEC lecture hall</td>\n",
    "    <td style=\"border: 0\">office building</td>\n",
    "    <td style=\"border: 0\">public transportation</td>\n",
    "  </tr>\n",
    "  <tr style=\"border:0\">\n",
    "    <td style=\"border: 0\">Ferdinand Schlatt</td>\n",
    "    <td style=\"border: 0\">Tutorial Tue 12:15-13:45, H11</td>\n",
    "    <td style=\"border: 0\">Universität Bielefeld</td>\n",
    "    <td style=\"border: 0\">light rail 4</td>\n",
    "  </tr>\n",
    "  <tr style=\"border:0\">\n",
    "    <td style=\"border: 0\"></td>\n",
    "    <td style=\"border: 0\"></td>\n",
    "    <td style=\"border: 0\">Universitätsstraße 25</td>\n",
    "    <td style=\"border: 0\">from Bahnhof and Jahnplatz</td>\n",
    "  </tr>\n",
    "  <tr style=\"border:0\">\n",
    "    <td style=\"border: 0\"></td>\n",
    "    <td style=\"border: 0\"></td>\n",
    "    <td style=\"border: 0\">33615 Bielefeld</td>\n",
    "    <td style=\"border: 0\"></td>\n",
    "  </tr>\n",
    "</table>"
   ]
  },
  {
   "cell_type": "code",
   "execution_count": null,
   "metadata": {},
   "outputs": [],
   "source": []
  }
 ],
 "metadata": {
  "hide_input": false,
  "kernelspec": {
   "display_name": "Python 3",
   "language": "python",
   "name": "python3"
  },
  "language_info": {
   "codemirror_mode": {
    "name": "ipython",
    "version": 3
   },
   "file_extension": ".py",
   "mimetype": "text/x-python",
   "name": "python",
   "nbconvert_exporter": "python",
   "pygments_lexer": "ipython3",
   "version": "3.6.3"
  }
 },
 "nbformat": 4,
 "nbformat_minor": 1
}
