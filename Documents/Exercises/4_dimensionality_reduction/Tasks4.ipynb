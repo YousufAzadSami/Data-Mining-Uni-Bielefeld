{
 "cells": [
  {
   "cell_type": "markdown",
   "metadata": {},
   "source": [
    "<table style=\"width:100%; border:0\" cellspacing=\"0\" cellpadding=\"0\" border=\"0\" align=\"left|left|right\">\n",
    "  <tr style=\"border:0\">\n",
    "  <td style=\"border: 0; font-size:30px\" rowspan=\"3\"><b>Universität Bielefeld</b></td>\n",
    "    <td style=\"border: 0\">CITEC / Faculty of Technology</td>\n",
    "    <td style=\"border: 0\">Sekretariat: S. Strunk</td>\n",
    "  </tr>\n",
    "  <tr style=\"border:0\">\n",
    "    <td style=\"border: 0\">Ambient Intelligence Group</td>\n",
    "    <td style=\"border: 0\" align=\"right\">O\u001e",
    "ffice: CITEC-3.311</td>\n",
    "  </tr>\n",
    "  <tr style=\"border:0\">\n",
    "    <td style=\"border: 0\">Dr. Thomas Hermann</td>\n",
    "    <td style=\"border: 0\">106-6891</td>\n",
    "  </tr>\n",
    "</table>"
   ]
  },
  {
   "cell_type": "markdown",
   "metadata": {},
   "source": [
    "#### <center>Exercises of the lecture \"Introduction to Data Mining\"</center><br/> <center>WS 2017/2018 Excercise sheet 4</center>"
   ]
  },
  {
   "cell_type": "markdown",
   "metadata": {},
   "source": [
    "# <center>- Dimensionality reduction -</center>"
   ]
  },
  {
   "cell_type": "markdown",
   "metadata": {},
   "source": [
    "In the e-Learning space (Lernraum) of the ekVV you can find the data set <tt>hand_postures.dat</tt>. This includes 95 hand postures that were collected using a cyberglove. Each posture includes 20 joint angles: 4 angles $\\theta_0,...,\\theta_3$ belong to each of the 5 fingers. The 20 features are those angles in a row for thumb (TH), forefinger (FF), middle finger (MF), ring finger (RF) and little finger (SF). \n",
    "\n",
    "Also have a look at the <tt>hand-model.png</tt> in the e-Learning space (Lernraum) of the ekVV."
   ]
  },
  {
   "cell_type": "markdown",
   "metadata": {},
   "source": [
    "### Problem 4.1, Correlation dimension"
   ]
  },
  {
   "cell_type": "markdown",
   "metadata": {},
   "source": [
    "Do an analysis of the correlation dimension. What is the estimate that you get for the intrinsic data dimensionality."
   ]
  },
  {
   "cell_type": "code",
   "execution_count": null,
   "metadata": {},
   "outputs": [],
   "source": []
  },
  {
   "cell_type": "markdown",
   "metadata": {},
   "source": [
    "### Problem 4.2, PCA"
   ]
  },
  {
   "cell_type": "markdown",
   "metadata": {},
   "source": [
    "Given is a data set of joint angles of a human hand, using the following hand model:\n",
    "![](images/hand-model.png)\n",
    "The columns of the data set are all joints, finger by finger, thumb to pinky finger, $\\theta_0$ to $\\theta_3$ each, in degrees."
   ]
  },
  {
   "cell_type": "markdown",
   "metadata": {},
   "source": [
    "**a)** Run a PCA on the hand posture data (SciPy offers for example the functions <tt>mean</tt> and <tt>eig</tt>).\n",
    "* Sort the eigenvalues in order of size and plot the eigenvalue spectrum. What can be seen?\n",
    "* Which percentage of the total variance remains after doing a dimension reduction on five principal components using the PCA? How big is the percentage of the two biggest eigenvectors?"
   ]
  },
  {
   "cell_type": "code",
   "execution_count": null,
   "metadata": {
    "collapsed": true
   },
   "outputs": [],
   "source": []
  },
  {
   "cell_type": "markdown",
   "metadata": {},
   "source": [
    "**b)** Visualize the results of the PCA using <tt>pylab.plot()</tt> and compare them to other representations of high dimensional data, e.g. scatter plots."
   ]
  },
  {
   "cell_type": "code",
   "execution_count": null,
   "metadata": {
    "collapsed": true
   },
   "outputs": [],
   "source": []
  },
  {
   "cell_type": "markdown",
   "metadata": {},
   "source": [
    "**c)** The joint angles have different variances. Which eigenvectors do you get, if you norm the attributes $x_i$ to $Var(x_i) = 1$ before running the PCA?"
   ]
  },
  {
   "cell_type": "code",
   "execution_count": null,
   "metadata": {
    "collapsed": true
   },
   "outputs": [],
   "source": []
  },
  {
   "cell_type": "markdown",
   "metadata": {},
   "source": [
    "<table style=\"width:100%; border:0;font-size:10px\" cellspacing=\"0\" cellpadding=\"0\" border=\"0\" align=\"left|left|right\">\n",
    "  <tr style=\"border:0\">\n",
    "    <td style=\"border: 0\">Thomas Hermann (thermann@techfak)</td>\n",
    "    <td style=\"border: 0\">Lecture Wed 12-14, CITEC lecture hall</td>\n",
    "    <td style=\"border: 0\">office building</td>\n",
    "    <td style=\"border: 0\">public transportation</td>\n",
    "  </tr>\n",
    "  <tr style=\"border:0\">\n",
    "    <td style=\"border: 0\"></td>\n",
    "    <td style=\"border: 0\">Tutorial Tue 12:15-13:45, V2-213</td>\n",
    "    <td style=\"border: 0\">Universität Bielefeld</td>\n",
    "    <td style=\"border: 0\">light rail 4</td>\n",
    "  </tr>\n",
    "  <tr style=\"border:0\">\n",
    "    <td style=\"border: 0\"></td>\n",
    "    <td style=\"border: 0\"></td>\n",
    "    <td style=\"border: 0\">Universitätsstraße 25</td>\n",
    "    <td style=\"border: 0\">from Bahnhof and Jahnplatz</td>\n",
    "  </tr>\n",
    "  <tr style=\"border:0\">\n",
    "    <td style=\"border: 0\"></td>\n",
    "    <td style=\"border: 0\"></td>\n",
    "    <td style=\"border: 0\">33615 Bielefeld</td>\n",
    "    <td style=\"border: 0\"></td>\n",
    "  </tr>\n",
    "</table>"
   ]
  }
 ],
 "metadata": {
  "hide_input": false,
  "kernelspec": {
   "display_name": "Python 3",
   "language": "python",
   "name": "python3"
  },
  "language_info": {
   "codemirror_mode": {
    "name": "ipython",
    "version": 3
   },
   "file_extension": ".py",
   "mimetype": "text/x-python",
   "name": "python",
   "nbconvert_exporter": "python",
   "pygments_lexer": "ipython3",
   "version": "3.6.3"
  }
 },
 "nbformat": 4,
 "nbformat_minor": 1
}
