{
 "cells": [
  {
   "cell_type": "markdown",
   "metadata": {},
   "source": [
    "<table style=\"width:100%; border:0\" cellspacing=\"0\" cellpadding=\"0\" border=\"0\" align=\"left|left|right\">\n",
    "  <tr style=\"border:0\">\n",
    "  <td style=\"border: 0; font-size:30px\" rowspan=\"3\"><b>Universität Bielefeld</b></td>\n",
    "    <td style=\"border: 0\">CITEC / Faculty of Technology</td>\n",
    "    <td style=\"border: 0\">Sekretariat: S. Strunk</td>\n",
    "  </tr>\n",
    "  <tr style=\"border:0\">\n",
    "    <td style=\"border: 0\">Ambient Intelligence Group</td>\n",
    "    <td style=\"border: 0\" align=\"right\">O\u001e",
    "ffice: CITEC-3.311</td>\n",
    "  </tr>\n",
    "  <tr style=\"border:0\">\n",
    "    <td style=\"border: 0\">Dr. Thomas Hermann</td>\n",
    "    <td style=\"border: 0\">106-6891</td>\n",
    "  </tr>\n",
    "</table>"
   ]
  },
  {
   "cell_type": "markdown",
   "metadata": {},
   "source": [
    "#### <center>Exercises of the lecture \"Introduction to Data Mining\"</center><br/> <center>WS 2018/2019 Excercise sheet 3</center>"
   ]
  },
  {
   "cell_type": "markdown",
   "metadata": {},
   "source": [
    "# <center>- Dependency analysis -</center>"
   ]
  },
  {
   "cell_type": "markdown",
   "metadata": {},
   "source": [
    "### Problem 3.1, Linear correlation as optimization task"
   ]
  },
  {
   "cell_type": "markdown",
   "metadata": {},
   "source": [
    "The linear correlation coefficient\n",
    "\n",
    "\\begin{equation}\n",
    "r = \\frac{\\sum\\limits_i (x_i - \\bar{x})(y_i - \\bar{y})}{\\sqrt{\\sum\\limits_i (x_i - \\bar{x})^2}\\sqrt{\\sum\\limits_i(y_i - \\bar{y})^2}}\n",
    "\\end{equation}\n",
    "is connected to the optimal estimator $a$ and $b$ regarding the cost function \n",
    "\\begin{equation}\n",
    " \tE(a,b) := \\sum\\limits_{i=1}^N (y_i - a x_i -b)^2 \n",
    "\\end{equation}\n",
    "by\n",
    "\\begin{equation}\n",
    "\tE_{\\min} = (1-r^2) \\sum\\limits^N_{i=1}(y_i - \\bar{y})^2 \n",
    "\\end{equation}\n"
   ]
  },
  {
   "cell_type": "markdown",
   "metadata": {},
   "source": [
    "**a)** Calculate the optimal solution (Extremum of $E(a,b)$) by setting the gradient $\\frac{\\partial E}{\\partial a}$, or $\\frac{\\partial E}{\\partial b}$ to zero. What is the equation for minimal error that you get?"
   ]
  },
  {
   "cell_type": "code",
   "execution_count": null,
   "metadata": {
    "collapsed": true
   },
   "outputs": [],
   "source": []
  },
  {
   "cell_type": "markdown",
   "metadata": {},
   "source": [
    "**b)** Now examine the data set \\{(1,2), (2.5, 7), (3, 9), (2.8, 7), (1.4, 4), (3.5, 7.5), (4, 9), (3.2, 6.8)\\}.\n",
    "* How big is $r$? \n",
    "* Which are the optimal parameters $a$ and $b$? \n",
    "* How big is the error? \n",
    "* Does the connection that we formulated in **(a)** hold? \n",
    "* How does a measuring error \"(4,.9) instead of (4,9)\" influence $r$?\n",
    "\n",
    "Plot the data set and compare the regression line."
   ]
  },
  {
   "cell_type": "code",
   "execution_count": null,
   "metadata": {
    "collapsed": true
   },
   "outputs": [],
   "source": []
  },
  {
   "cell_type": "markdown",
   "metadata": {},
   "source": [
    "**c)** Analyze the data set in a similar manner using the non-parametric correlation.\n",
    "* How big is $r_{sp}$? Can we reject the null hypothesis of uncorrelatedness? \n",
    "* What's the meaning of the parameters $a$ and $b$ in the case of rank correlation? \n",
    "* How does a transmission error \"(4,-9) instead of (4,9)\" influence the results now?"
   ]
  },
  {
   "cell_type": "code",
   "execution_count": null,
   "metadata": {
    "collapsed": true
   },
   "outputs": [],
   "source": []
  },
  {
   "cell_type": "markdown",
   "metadata": {},
   "source": [
    "**d) Additional Task (optional, but a good exercise):** Prove the above mentioned relation between $r$ and $E_{min}$.\n",
    "\n",
    "(Hint: You can assume $\\bar{x}=0$ without loss of generality and work with the vectors $\\vec{m}_x$ and $\\vec{m}_y$, that we discussed during the geometric interpretation of $r$ during the lecture.) "
   ]
  },
  {
   "cell_type": "code",
   "execution_count": null,
   "metadata": {
    "collapsed": true
   },
   "outputs": [],
   "source": []
  },
  {
   "cell_type": "markdown",
   "metadata": {},
   "source": [
    "<table style=\"width:100%; border:0;font-size:10px\" cellspacing=\"0\" cellpadding=\"0\" border=\"0\" align=\"left|left|right\">\n",
    "  <tr style=\"border:0\">\n",
    "    <td style=\"border: 0\">Thomas Hermann (thermann@techfak)</td>\n",
    "    <td style=\"border: 0\">Lecture Wed 12-14, CITEC lecture hall</td>\n",
    "    <td style=\"border: 0\">office building</td>\n",
    "    <td style=\"border: 0\">public transportation</td>\n",
    "  </tr>\n",
    "  <tr style=\"border:0\">\n",
    "    <td style=\"border: 0\">Ferdinand Schlatt: </td>\n",
    "    <td style=\"border: 0\">Tutorial Tue 12:15-13:45, UHG H11</td>\n",
    "    <td style=\"border: 0\">Universität Bielefeld</td>\n",
    "    <td style=\"border: 0\">light rail 4</td>\n",
    "  </tr>\n",
    "  <tr style=\"border:0\">\n",
    "    <td style=\"border: 0\"></td>\n",
    "    <td style=\"border: 0\"></td>\n",
    "    <td style=\"border: 0\">Universitätsstraße 25</td>\n",
    "    <td style=\"border: 0\">from Bahnhof and Jahnplatz</td>\n",
    "  </tr>\n",
    "  <tr style=\"border:0\">\n",
    "    <td style=\"border: 0\"></td>\n",
    "    <td style=\"border: 0\"></td>\n",
    "    <td style=\"border: 0\">33615 Bielefeld</td>\n",
    "    <td style=\"border: 0\"></td>\n",
    "  </tr>\n",
    "</table>"
   ]
  },
  {
   "cell_type": "code",
   "execution_count": null,
   "metadata": {},
   "outputs": [],
   "source": []
  }
 ],
 "metadata": {
  "hide_input": false,
  "kernelspec": {
   "display_name": "Python 3",
   "language": "python",
   "name": "python3"
  },
  "language_info": {
   "codemirror_mode": {
    "name": "ipython",
    "version": 3
   },
   "file_extension": ".py",
   "mimetype": "text/x-python",
   "name": "python",
   "nbconvert_exporter": "python",
   "pygments_lexer": "ipython3",
   "version": "3.6.3"
  }
 },
 "nbformat": 4,
 "nbformat_minor": 1
}
