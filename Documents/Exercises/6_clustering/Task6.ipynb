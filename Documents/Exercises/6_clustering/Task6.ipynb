{
 "cells": [
  {
   "cell_type": "markdown",
   "metadata": {},
   "source": [
    "<table style=\"width:100%; border:0\" cellspacing=\"0\" cellpadding=\"0\" border=\"0\" align=\"left|left|right\">\n",
    "  <tr style=\"border:0\">\n",
    "  <td style=\"border: 0; font-size:30px\" rowspan=\"3\"><b>Universität Bielefeld</b></td>\n",
    "    <td style=\"border: 0\">CITEC / Faculty of Technology</td>\n",
    "    <td style=\"border: 0\">Sekretariat: S. Strunk</td>\n",
    "  </tr>\n",
    "  <tr style=\"border:0\">\n",
    "    <td style=\"border: 0\">Ambient Intelligence Group</td>\n",
    "    <td style=\"border: 0\" align=\"right\">O\u001e",
    "ffice: CITEC-3.311</td>\n",
    "  </tr>\n",
    "  <tr style=\"border:0\">\n",
    "    <td style=\"border: 0\">Dr. Thomas Hermann</td>\n",
    "    <td style=\"border: 0\">106-6891</td>\n",
    "  </tr>\n",
    "</table>"
   ]
  },
  {
   "cell_type": "markdown",
   "metadata": {},
   "source": [
    "#### <center>Exercises of the lecture \"Grundlagen Datamining\"</center><br/> <center>WS 2018/2019 Excercise sheet 6</center>"
   ]
  },
  {
   "cell_type": "markdown",
   "metadata": {},
   "source": [
    "# <center>- Clustering -</center>"
   ]
  },
  {
   "cell_type": "markdown",
   "metadata": {},
   "source": [
    "### Problem 6.1, An example from research"
   ]
  },
  {
   "cell_type": "markdown",
   "metadata": {},
   "source": [
    "To explore a room, the robot BIRON records it using a 3D camera. The data represents the room as many single points. An approach for the human to find relevant areas and objects within the room is to assume that they differ from the bottom plane and thus have a height above zero. If we look at the height of the filtered points and cluster them, we get a mapping of these areas."
   ]
  },
  {
   "cell_type": "markdown",
   "metadata": {},
   "source": [
    "You can find the data set <tt>points.dat</tt> in the e-Learning space (Lernraum) of the ekVV.\n",
    "\n",
    "It includes 5 columns of which only the first 4 are interesting for us:"
   ]
  },
  {
   "cell_type": "markdown",
   "metadata": {},
   "source": [
    "1. X-axis\n",
    "2. Y-axis\n",
    "3. Z-axis (height)\n",
    "4. Validity (-1 = valid / 0 = invalid)"
   ]
  },
  {
   "cell_type": "markdown",
   "metadata": {},
   "source": [
    "First filter out all the invalid points and all points below the bottom plane (Z<0). To reduce the data set even more you should only use every 20th entry in your further work. About 2000 points should remain."
   ]
  },
  {
   "cell_type": "markdown",
   "metadata": {},
   "source": [
    "Now cluster the remaining points. The height is not relevant anymore and can be assumed to be 0 to get points in a 2-dimensional room. Use the basic scheme of agglomerative clustering as presented in the lecture to cluster the data. Use the number of clusters as the termination condition. Try 5, 4 and 3 clusters."
   ]
  },
  {
   "cell_type": "markdown",
   "metadata": {},
   "source": [
    "Compare the resulting clusters that you get, if you use..."
   ]
  },
  {
   "cell_type": "markdown",
   "metadata": {},
   "source": [
    "**a)** Single Linkage Clustering (SLC)."
   ]
  },
  {
   "cell_type": "code",
   "execution_count": null,
   "metadata": {
    "collapsed": true
   },
   "outputs": [],
   "source": []
  },
  {
   "cell_type": "markdown",
   "metadata": {},
   "source": [
    "**b)** Complete Linkage Clustering (CLC)."
   ]
  },
  {
   "cell_type": "code",
   "execution_count": null,
   "metadata": {
    "collapsed": true
   },
   "outputs": [],
   "source": []
  },
  {
   "cell_type": "markdown",
   "metadata": {},
   "source": [
    "<table style=\"width:100%; border:0;font-size:10px\" cellspacing=\"0\" cellpadding=\"0\" border=\"0\" align=\"left|left|right\">\n",
    "  <tr style=\"border:0\">\n",
    "    <td style=\"border: 0\">Thomas Hermann (thermann@techfak)</td>\n",
    "    <td style=\"border: 0\">Lecture Wed 12-14, CITEC lecture hall</td>\n",
    "    <td style=\"border: 0\">office building</td>\n",
    "    <td style=\"border: 0\">public transportation</td>\n",
    "  </tr>\n",
    "  <tr style=\"border:0\">\n",
    "    <td style=\"border: 0\">Ferdinand Schlatt (fschlatt@techfak)</td>\n",
    "    <td style=\"border: 0\">Tutorial Wed 08:30-10, U2-205</td>\n",
    "    <td style=\"border: 0\">Universität Bielefeld</td>\n",
    "    <td style=\"border: 0\">light rail 4</td>\n",
    "  </tr>\n",
    "  <tr style=\"border:0\">\n",
    "    <td style=\"border: 0\"></td>\n",
    "    <td style=\"border: 0\"></td>\n",
    "    <td style=\"border: 0\">Universitätsstraße 25</td>\n",
    "    <td style=\"border: 0\">from Bahnhof and Jahnplatz</td>\n",
    "  </tr>\n",
    "  <tr style=\"border:0\">\n",
    "    <td style=\"border: 0\"></td>\n",
    "    <td style=\"border: 0\"></td>\n",
    "    <td style=\"border: 0\">33615 Bielefeld</td>\n",
    "    <td style=\"border: 0\"></td>\n",
    "  </tr>\n",
    "</table>"
   ]
  },
  {
   "cell_type": "code",
   "execution_count": null,
   "metadata": {},
   "outputs": [],
   "source": []
  }
 ],
 "metadata": {
  "kernelspec": {
   "display_name": "Python 3",
   "language": "python",
   "name": "python3"
  },
  "language_info": {
   "codemirror_mode": {
    "name": "ipython",
    "version": 3
   },
   "file_extension": ".py",
   "mimetype": "text/x-python",
   "name": "python",
   "nbconvert_exporter": "python",
   "pygments_lexer": "ipython3",
   "version": "3.6.3"
  }
 },
 "nbformat": 4,
 "nbformat_minor": 1
}
