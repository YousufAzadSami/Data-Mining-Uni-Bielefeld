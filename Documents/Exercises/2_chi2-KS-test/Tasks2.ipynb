{
 "cells": [
  {
   "cell_type": "markdown",
   "metadata": {},
   "source": [
    "<table style=\"width:100%; border:0\" cellspacing=\"0\" cellpadding=\"0\" border=\"0\" align=\"left|left|right\">\n",
    "  <tr style=\"border:0\">\n",
    "  <td style=\"border: 0; font-size:30px\" rowspan=\"3\"><b>Universität Bielefeld</b></td>\n",
    "    <td style=\"border: 0\">CITEC / Faculty of Technology</td>\n",
    "    <td style=\"border: 0\">Sekretariat: S. Strunk</td>\n",
    "  </tr>\n",
    "  <tr style=\"border:0\">\n",
    "    <td style=\"border: 0\">Ambient Intelligence Group</td>\n",
    "    <td style=\"border: 0\" align=\"right\">O\u001e",
    "ffice: CITEC-3.311</td>\n",
    "  </tr>\n",
    "  <tr style=\"border:0\">\n",
    "    <td style=\"border: 0\">Dr. Thomas Hermann</td>\n",
    "    <td style=\"border: 0\">106-6891</td>\n",
    "  </tr>\n",
    "</table>"
   ]
  },
  {
   "cell_type": "markdown",
   "metadata": {},
   "source": [
    "#### <center>Exercises of the lecture \"Introduction to Data Mining\"</center><br/> <center>WS 2018/2019 Excercise sheet 2</center>"
   ]
  },
  {
   "cell_type": "markdown",
   "metadata": {},
   "source": [
    "# <center>- Hypothesis testing and dependency analysis -</center>"
   ]
  },
  {
   "cell_type": "markdown",
   "metadata": {},
   "source": [
    "### Problem 2.1, Kolmogorov-Smirnov-Test"
   ]
  },
  {
   "cell_type": "markdown",
   "metadata": {},
   "source": [
    "In the file <tt>zahlen.csv</tt> in the e-Learning space (Lernraum) of the ekVV you can find multiple distributions. Test each of these distributions against the normal distribution of the same mean and standard deviation values as the data by using the Kolmogorov-Smirnov-Test. \n",
    "* Are there distributions that significantly differ from the normal distribution? \n",
    "* If yes, which are the ones? \n",
    "* To visualize the results plot a histogram of each distribution. To make the histograms compareable, the distance of the bins should always be 0.1.\n",
    "\n",
    "The following Python functions may prove helpful to you: <tt>scipy.stats.kstest</tt>, <tt>pylab.load</tt>, <tt>pylab.hist</tt>"
   ]
  },
  {
   "cell_type": "code",
   "execution_count": null,
   "metadata": {
    "collapsed": true
   },
   "outputs": [],
   "source": []
  },
  {
   "cell_type": "markdown",
   "metadata": {},
   "source": [
    "<b>Additional task 1:</b> If all of the 50 distributions actually were samples of a normal distribution, how often would you still expect to be able to reject the null hypothesis according to the KS-test?"
   ]
  },
  {
   "cell_type": "markdown",
   "metadata": {},
   "source": [
    "<b>Addtitional task 2 (optional):</b> Implement the Kolmogorov-Smirnov-Test in Python and compare its results to the results of the SciPy implementation."
   ]
  },
  {
   "cell_type": "code",
   "execution_count": null,
   "metadata": {},
   "outputs": [],
   "source": []
  },
  {
   "cell_type": "markdown",
   "metadata": {},
   "source": [
    "### Problem 2.2, Detection of dependencies between variables"
   ]
  },
  {
   "cell_type": "markdown",
   "metadata": {},
   "source": [
    "Every year a large amount of money is spent in Germany's universities. A list of all DFG funds can be found at <tt>unis.ods</tt> in the e-Learning space (Lernraum) of the ekVV. Wouldn't it be interesting to know whether there is a dependency between the number of students and the assigned amount of money?\n",
    "\n",
    "<b>a)</b> Fill in the following table using the data from the downloaded .ods-file."
   ]
  },
  {
   "cell_type": "markdown",
   "metadata": {},
   "source": [
    "DFG / Students     | > 30.000            | 20.000 - 30.000     | < 20.000            | SUM\n",
    "-------------------|:--------------------|:--------------------|:--------------------|:--------------------\n",
    "**> 200 Mio.**     | 2                   | 2                   | 0                   | 4\n",
    "**100 - 200 Mio.** | 5                   | 8                   | 3                   | 16\n",
    "**< 100 Mio.**     | 3                   | 5                   | 2                   | 10\n",
    "**SUM**            | 10                  | 15                  | 5                   | 30"
   ]
  },
  {
   "cell_type": "markdown",
   "metadata": {},
   "source": [
    "The null hypothesis is $H_0$: \"The variables DFG and students are independent.\"\n",
    "\n",
    "If $H_0$ can be rejected, use the \"Cramer's V\" to calculate the degree of association and in advance the contingence-coefficient."
   ]
  },
  {
   "cell_type": "code",
   "execution_count": null,
   "metadata": {},
   "outputs": [],
   "source": []
  },
  {
   "cell_type": "markdown",
   "metadata": {},
   "source": [
    "<b>b)</b> Fill in the following table using the data from the downloaded .ods-file."
   ]
  },
  {
   "cell_type": "markdown",
   "metadata": {},
   "source": [
    "DFG / Etat         | > 500 Mio.          | 300 - 500 Mio.      | < 300 Mio.          | SUM\n",
    "-------------------|:--------------------|:--------------------|:--------------------|:--------------------\n",
    "**> 200 Mio.**     | 2                   | 1                   | 1                   | 4\n",
    "**100 - 200 Mio.** | 3                   | 5                   | 5                   | 13\n",
    "**< 100 Mio.**     | 0                   | 4                   | 2                   | 6\n",
    "**SUM**            | 5                   | 11                  | 7                   | 23"
   ]
  },
  {
   "cell_type": "markdown",
   "metadata": {},
   "source": [
    "The null hypothesis is $H_0$: \"The variables DFG and Etat are independent.\"\n",
    "\n",
    "If $H_0$ can be rejected, use the \"Cramer's V\" to calculate the degree of association and in advance the contingence-coefficient."
   ]
  },
  {
   "cell_type": "code",
   "execution_count": null,
   "metadata": {},
   "outputs": [],
   "source": []
  },
  {
   "cell_type": "markdown",
   "metadata": {},
   "source": [
    "<table style=\"width:100%; border:0;font-size:10px\" cellspacing=\"0\" cellpadding=\"0\" border=\"0\" align=\"left|left|right\">\n",
    "  <tr style=\"border:0\">\n",
    "    <td style=\"border: 0\">Thomas Hermann (thermann@techfak)</td>\n",
    "    <td style=\"border: 0\">Lecture Wed 12-14, CITEC lecture hall</td>\n",
    "    <td style=\"border: 0\">office building</td>\n",
    "    <td style=\"border: 0\">public transportation</td>\n",
    "  </tr>\n",
    "  <tr style=\"border:0\">\n",
    "    <td style=\"border: 0\">Ferdinant Schlatt (fschlatt@techfak)</td>\n",
    "    <td style=\"border: 0\">Tutorial Tue 12:15-14, H11</td>\n",
    "    <td style=\"border: 0\">Universität Bielefeld</td>\n",
    "    <td style=\"border: 0\">light rail 4</td>\n",
    "  </tr>\n",
    "  <tr style=\"border:0\">\n",
    "    <td style=\"border: 0\"></td>\n",
    "    <td style=\"border: 0\"></td>\n",
    "    <td style=\"border: 0\">Universitätsstraße 25</td>\n",
    "    <td style=\"border: 0\">from Bahnhof and Jahnplatz</td>\n",
    "  </tr>\n",
    "  <tr style=\"border:0\">\n",
    "    <td style=\"border: 0\"></td>\n",
    "    <td style=\"border: 0\"></td>\n",
    "    <td style=\"border: 0\">33615 Bielefeld</td>\n",
    "    <td style=\"border: 0\"></td>\n",
    "  </tr>\n",
    "</table>"
   ]
  },
  {
   "cell_type": "code",
   "execution_count": null,
   "metadata": {},
   "outputs": [],
   "source": []
  }
 ],
 "metadata": {
  "hide_input": false,
  "kernelspec": {
   "display_name": "Python 3",
   "language": "python",
   "name": "python3"
  },
  "language_info": {
   "codemirror_mode": {
    "name": "ipython",
    "version": 3
   },
   "file_extension": ".py",
   "mimetype": "text/x-python",
   "name": "python",
   "nbconvert_exporter": "python",
   "pygments_lexer": "ipython3",
   "version": "3.6.3"
  }
 },
 "nbformat": 4,
 "nbformat_minor": 1
}
