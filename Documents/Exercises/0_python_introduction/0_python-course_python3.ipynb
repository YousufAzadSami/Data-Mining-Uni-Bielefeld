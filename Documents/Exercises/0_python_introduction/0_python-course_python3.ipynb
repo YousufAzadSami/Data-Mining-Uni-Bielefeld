{
 "cells": [
  {
   "cell_type": "markdown",
   "metadata": {},
   "source": [
    "# Python programming using NumPy, SciPy and Matplotlib/Pylab for Datamining\n",
    "\n",
    "**Course material adapted from a python workshop given by Antoine Lefebvre at CIRMMT**\n",
    "\n",
    "* Lecture: Introduction to Datamining (T. Hermann)\n",
    "* Winter Term 2018/2019\n",
    "* Tutor: Ferdinand Schlatt, ferdinand.schlatt@uni-bielefeld.de\n",
    "\n",
    "## Introduction to Python\n",
    "\n",
    "* Python is a simple, powerful and efficient interpreted language.\n",
    "* Together with the NumPy, SciPy and Matplotlib/Pylab, it provides a nice environment for scientific works."
   ]
  },
  {
   "cell_type": "markdown",
   "metadata": {},
   "source": [
    "## Goals of this course module\n",
    "* Getting started with the Python programming language and standard libraries.\n",
    "* Basic information about Numpy, Scipy and Matplotlib/Pylab packages. \n",
    "* See how python will be useful for the Datamining course"
   ]
  },
  {
   "cell_type": "markdown",
   "metadata": {},
   "source": [
    "## Table of Contents\n",
    "* Python - description of the language\n",
    " * Language\n",
    " * Syntax\n",
    " * Types\n",
    " * Conditionals and loops\n",
    " * Errors\n",
    " * Functions\n",
    " * Modules\n",
    " * Classes\n",
    "* Python - Overview of the standard library \n",
    "* NumPy\n",
    "* SciPy\n",
    "* Matplotlib/Pylab"
   ]
  },
  {
   "cell_type": "markdown",
   "metadata": {},
   "source": [
    "## What is Python?\n",
    "* an interpreted, object-oriented, high-level programming language with dynamic semantics.\n",
    "* simple and easy to learn.\n",
    "* open source, free and cross-platform.\n",
    "* it provides high-level built-in data structures.\n",
    "* very useful for rapid application development.\n",
    "* can be used as a scripting or glue language.\n",
    "* enforces code readability.\n",
    "* supports modules and packages."
   ]
  },
  {
   "cell_type": "markdown",
   "metadata": {},
   "source": [
    "## The Python language\n",
    "### Features\n",
    "* Python programs are compiled to bytecode before interpretation (provide fast execution).\n",
    "* Python supports OS tools: environment variables, files, sockets, pipes, processes, threads, regular expressions, and so on.\n",
    "* Python comes with mighty GUI toolkits (e.g. Tkinter, pyQt).\n",
    "* Dynamic typing – Duck typing\n",
    "* Built-in object types\n",
    "* Library utilities\n",
    "* Thousends of Third-party modules\n",
    "* Automatic memory management"
   ]
  },
  {
   "cell_type": "markdown",
   "metadata": {},
   "source": [
    "## Syntax: Basics\n",
    "* comments are indicated with ”#”\n",
    "* two statements on the same line are separated with a semicolon ”;”\n",
    "* no semicolon at the end of lines\n",
    "* a long line continue on next with ”\\” (it is not always needed)\n",
    "* grouping is obtained through indentation\n",
    "* one Python script is considered a module that can be run or imported by other modules\n",
    "* assignment uses the equal sign ”=”\n"
   ]
  },
  {
   "cell_type": "markdown",
   "metadata": {},
   "source": [
    "## Syntax: Assignment\n",
    "* Assignment creates references, not values:"
   ]
  },
  {
   "cell_type": "code",
   "execution_count": 1,
   "metadata": {},
   "outputs": [
    {
     "name": "stdout",
     "output_type": "stream",
     "text": [
      "hello\n"
     ]
    }
   ],
   "source": [
    "tmp = \"hello\"\n",
    "print (tmp)"
   ]
  },
  {
   "cell_type": "code",
   "execution_count": 2,
   "metadata": {},
   "outputs": [
    {
     "name": "stdout",
     "output_type": "stream",
     "text": [
      "10\n"
     ]
    }
   ],
   "source": [
    "tmp = 10 # the first string will be deallocated\n",
    "print (tmp)"
   ]
  },
  {
   "cell_type": "markdown",
   "metadata": {},
   "source": [
    "* Contrary to C, assignments do not have value: \n",
    " * y = (x = x + 1) is invalid\n",
    "* As in C: x += 1 is valid\n",
    "* Note that pre/post increment/decrement: x++; ++x; x--; --x are invalid\n",
    "* Multiple assignment (references to a unique object): x=y=z=1\n",
    "* Multiple assignments: (x,y,z)=(3.5,5.5,’string’)\n",
    "* Example of swaping variables value: (x,y)=(y,x)"
   ]
  },
  {
   "cell_type": "code",
   "execution_count": 4,
   "metadata": {},
   "outputs": [
    {
     "name": "stdout",
     "output_type": "stream",
     "text": [
      "9 5\n"
     ]
    }
   ],
   "source": [
    "x, y = 5, 9\n",
    "x, y = y, x\n",
    "print(x, y)"
   ]
  },
  {
   "cell_type": "markdown",
   "metadata": {},
   "source": [
    "## Identifiers\n",
    "* First character: a letter or the symbol ”_”\n",
    "* Additional characters: alphanumeric or the symbol ”_” \n",
    "* They are case-sensitive"
   ]
  },
  {
   "cell_type": "markdown",
   "metadata": {},
   "source": [
    "## Documentation\n",
    "* The first unassigned string in a module, class declaration, or function declaration can be accessed through by using\n",
    " * obj.\\_\\_doc\\_\\_\n",
    "* where obj is the module, class, or function name. \n",
    "* \\_\\_doc\\_\\_ is one of Python special variables."
   ]
  },
  {
   "cell_type": "code",
   "execution_count": 6,
   "metadata": {},
   "outputs": [
    {
     "name": "stdout",
     "output_type": "stream",
     "text": [
      "---> This is the doc-string\n",
      "    which can cover several lines <---\n",
      "\n",
      "\n",
      "Help on function dm in module __main__:\n",
      "\n",
      "dm(x)\n",
      "    This is the doc-string\n",
      "    which can cover several lines\n",
      "\n"
     ]
    }
   ],
   "source": [
    "def dm(x):\n",
    "    \"\"\"This is the doc-string\n",
    "    which can cover several lines\"\"\"\n",
    "    return x*x\n",
    "print (\"--->\", dm.__doc__, \"<---\\n\\n\")\n",
    "help(dm)  # also prints the doc string..."
   ]
  },
  {
   "cell_type": "markdown",
   "metadata": {},
   "source": [
    "## Special variables\n",
    "* Python relies on many special variables that can be accessed by your code.\n",
    "* One is the ”\\_\\_name\\_\\_” variables.\n",
    "* When a module is run, it contains the string ”\\_\\_main\\_\\_”.\n",
    "* When the module is imported, it contains the modules name.\n",
    "* You can add code that runs only when a module is called directly:\n",
    " * if \\_\\_name\\_\\_ == ’\\_\\_main\\_\\_’: test()\n",
    "* See online documentation for more details."
   ]
  },
  {
   "cell_type": "markdown",
   "metadata": {},
   "source": [
    "## Types\n",
    "### Built-in object types\n",
    "* Numbers : 3.1415, 1234, 999L, 3+4j \n",
    "* Strings : ’spam’, \"guido’s\"\n",
    "* Lists : [1, [2, ’three’], 4]\n",
    "* Dictionaries : {’food’:’spam’, ’taste’:’yum’}\n",
    "* Tuples : (1,’spam’, 4, ’U’)\n",
    "* Files : text = open(’eggs’, ’r’).read()\n",
    "* Boolean: b = True\n",
    " * To sum up True and False in a sentence: they're alternative ways to spell the integer values 1 and 0,"
   ]
  },
  {
   "cell_type": "code",
   "execution_count": 7,
   "metadata": {},
   "outputs": [
    {
     "data": {
      "text/plain": [
       "(-8+6j)"
      ]
     },
     "execution_count": 7,
     "metadata": {},
     "output_type": "execute_result"
    }
   ],
   "source": [
    "(3+4j)*2j"
   ]
  },
  {
   "cell_type": "code",
   "execution_count": 8,
   "metadata": {},
   "outputs": [
    {
     "name": "stdout",
     "output_type": "stream",
     "text": [
      "False True 2\n"
     ]
    }
   ],
   "source": [
    "print ((7==9), (9==9), (9==9)+1)"
   ]
  },
  {
   "cell_type": "code",
   "execution_count": 9,
   "metadata": {},
   "outputs": [
    {
     "data": {
      "text/plain": [
       "complex"
      ]
     },
     "execution_count": 9,
     "metadata": {},
     "output_type": "execute_result"
    }
   ],
   "source": [
    "import types\n",
    "type(999+8j)"
   ]
  },
  {
   "cell_type": "markdown",
   "metadata": {},
   "source": [
    "### Numbers\n",
    "* integers 1234, -24, 0\n",
    "* unlimited precision integers 999999999999L\n",
    "* floating 1.23, 3.14e-10, 4E210, 4.0e+210\n",
    "* oct and hex 0177, 0x9ff\n",
    "* complex 3+4j, 3.0+4.0j, 3J"
   ]
  },
  {
   "cell_type": "markdown",
   "metadata": {},
   "source": [
    "### strings (immutable sequences)\n",
    "* single quote "
   ]
  },
  {
   "cell_type": "code",
   "execution_count": 12,
   "metadata": {},
   "outputs": [],
   "source": [
    "s1 = 'chicken ' "
   ]
  },
  {
   "cell_type": "markdown",
   "metadata": {},
   "source": [
    "* double quotes"
   ]
  },
  {
   "cell_type": "code",
   "execution_count": 13,
   "metadata": {},
   "outputs": [],
   "source": [
    " s2 = \"and egg \""
   ]
  },
  {
   "cell_type": "markdown",
   "metadata": {},
   "source": [
    "* triple quotes "
   ]
  },
  {
   "cell_type": "code",
   "execution_count": 14,
   "metadata": {},
   "outputs": [
    {
     "name": "stdout",
     "output_type": "stream",
     "text": [
      "...\n"
     ]
    }
   ],
   "source": [
    "block = \"\"\"...\"\"\"\n",
    "print (block)"
   ]
  },
  {
   "cell_type": "code",
   "execution_count": 15,
   "metadata": {},
   "outputs": [
    {
     "name": "stdout",
     "output_type": "stream",
     "text": [
      "concatenate: chicken and egg \n"
     ]
    }
   ],
   "source": [
    "# concatenate repeat index, slice length formatting iteration membership\n",
    "print (\"concatenate:\", s1 + s2)"
   ]
  },
  {
   "cell_type": "code",
   "execution_count": 16,
   "metadata": {},
   "outputs": [
    {
     "name": "stdout",
     "output_type": "stream",
     "text": [
      "repeat: and egg and egg and egg \n"
     ]
    }
   ],
   "source": [
    "print (\"repeat:\", s2 * 3)"
   ]
  },
  {
   "cell_type": "code",
   "execution_count": 17,
   "metadata": {},
   "outputs": [
    {
     "name": "stdout",
     "output_type": "stream",
     "text": [
      "index: d \n",
      "slice: nd \n"
     ]
    }
   ],
   "source": [
    "print (\"index:\", s2[2], \"\\n\" + \"slice:\", s2[1:4])"
   ]
  },
  {
   "cell_type": "code",
   "execution_count": 18,
   "metadata": {},
   "outputs": [
    {
     "name": "stdout",
     "output_type": "stream",
     "text": [
      "length: 8\n"
     ]
    }
   ],
   "source": [
    "print (\"length:\", len(s2))"
   ]
  },
  {
   "cell_type": "code",
   "execution_count": 19,
   "metadata": {},
   "outputs": [
    {
     "name": "stdout",
     "output_type": "stream",
     "text": [
      "formatting: 5 dead parrots\n",
      "formatting:   5.0 dead parrots\n"
     ]
    }
   ],
   "source": [
    "s3 = \"%d %s parrots\" % (5, 'dead')\n",
    "print (\"formatting:\", s3)\n",
    "\n",
    "s3 = \"{:5.1f} {} parrots\".format(5, 'dead')\n",
    "print (\"formatting:\", s3)"
   ]
  },
  {
   "cell_type": "code",
   "execution_count": 20,
   "metadata": {},
   "outputs": [
    {
     "name": "stdout",
     "output_type": "stream",
     "text": [
      " \n",
      " \n",
      "5\n",
      ".\n",
      "0\n",
      " \n",
      "d\n",
      "e\n",
      "a\n",
      "d\n",
      " \n",
      "p\n",
      "a\n",
      "r\n",
      "r\n",
      "o\n",
      "t\n",
      "s\n"
     ]
    }
   ],
   "source": [
    "# iteration\n",
    "for x in s3: # x loop through each character of s2\n",
    "    print (x)"
   ]
  },
  {
   "cell_type": "code",
   "execution_count": 152,
   "metadata": {},
   "outputs": [
    {
     "name": "stdout",
     "output_type": "stream",
     "text": [
      "True\n"
     ]
    }
   ],
   "source": [
    "print ('g' in s2) # return True if the ’g’ is in the string s2"
   ]
  },
  {
   "cell_type": "markdown",
   "metadata": {},
   "source": [
    "### Lists\n",
    "* Ordered collections of arbitrary objects\n",
    "* Accessed by integer index\n",
    "* Variable length, heterogeneous, arbitrarily nestable\n",
    "* Mutable sequence\n",
    "* Arrays of object references"
   ]
  },
  {
   "cell_type": "markdown",
   "metadata": {},
   "source": [
    "### Lists operations"
   ]
  },
  {
   "cell_type": "code",
   "execution_count": 21,
   "metadata": {},
   "outputs": [],
   "source": [
    "# empty list \n",
    "L1 = []\n",
    "\n",
    "# four items \n",
    "L2 = [0, 1, 2, 3, \"test\"]\n",
    "\n",
    "# nested \n",
    "L3 = ['abc', ['def', 'ghi']] "
   ]
  },
  {
   "cell_type": "code",
   "execution_count": 23,
   "metadata": {},
   "outputs": [
    {
     "name": "stdout",
     "output_type": "stream",
     "text": [
      "[]\n",
      "[0, 1, 2, 3, 'test']\n",
      "1\n",
      "ghi\n"
     ]
    }
   ],
   "source": [
    "# index \n",
    "print(L1)\n",
    "print(L2)\n",
    "print (L2[1])\n",
    "print (L3[1][1])"
   ]
  },
  {
   "cell_type": "code",
   "execution_count": 25,
   "metadata": {},
   "outputs": [
    {
     "name": "stdout",
     "output_type": "stream",
     "text": [
      "[1, 2] 5\n"
     ]
    }
   ],
   "source": [
    "# slice, length \n",
    "print (L2[1:3], len(L2))"
   ]
  },
  {
   "cell_type": "code",
   "execution_count": 26,
   "metadata": {},
   "outputs": [
    {
     "name": "stdout",
     "output_type": "stream",
     "text": [
      "[0, 1, 2, 3, 'test', 'abc', ['def', 'ghi']]\n",
      "[0, 1, 2, 3, 'test'] [0, 1, 2, 3, 'test', 0, 1, 2, 3, 'test', 0, 1, 2, 3, 'test']\n"
     ]
    }
   ],
   "source": [
    "# concatenate, repeat \n",
    "print (L2 + L3)\n",
    "print (L1 + L2, L2 * 3)"
   ]
  },
  {
   "cell_type": "code",
   "execution_count": 27,
   "metadata": {},
   "outputs": [
    {
     "name": "stdout",
     "output_type": "stream",
     "text": [
      "0\n",
      "1\n",
      "2\n",
      "3\n",
      "test\n"
     ]
    }
   ],
   "source": [
    "# iteration, membership \n",
    "for x in L2:\n",
    "    print (x)"
   ]
  },
  {
   "cell_type": "code",
   "execution_count": 29,
   "metadata": {},
   "outputs": [
    {
     "name": "stdout",
     "output_type": "stream",
     "text": [
      "True\n"
     ]
    }
   ],
   "source": [
    "print ('test' in L2)"
   ]
  },
  {
   "cell_type": "code",
   "execution_count": 159,
   "metadata": {},
   "outputs": [
    {
     "name": "stdout",
     "output_type": "stream",
     "text": [
      "[0, 1, 2, 3, 'test', -4]\n",
      "4\n",
      "[3, 2, 1, 0, -4]\n"
     ]
    }
   ],
   "source": [
    "# methods\n",
    "L2.append(-4)\n",
    "print (L2)\n",
    "L2.remove(\"test\")\n",
    "L2.sort()\n",
    "print (L2.index(3))\n",
    "# help(list.index)\n",
    "L2.reverse()\n",
    "print (L2)"
   ]
  },
  {
   "cell_type": "code",
   "execution_count": 160,
   "metadata": {},
   "outputs": [
    {
     "name": "stdout",
     "output_type": "stream",
     "text": [
      "Help on method_descriptor:\n",
      "\n",
      "index(...)\n",
      "    L.index(value, [start, [stop]]) -> integer -- return first index of value.\n",
      "    Raises ValueError if the value is not present.\n",
      "\n"
     ]
    }
   ],
   "source": [
    "help(list.index)"
   ]
  },
  {
   "cell_type": "code",
   "execution_count": 161,
   "metadata": {},
   "outputs": [
    {
     "name": "stdout",
     "output_type": "stream",
     "text": [
      "[0 1 2 3]\n"
     ]
    }
   ],
   "source": [
    "import numpy as np\n",
    "# shrinking \n",
    "del L2[0] \n",
    "L2[1:3] = []\n",
    "\n",
    "# assignment \n",
    "L2[0] = 1\n",
    "L2[3:6] = [4,5,6] \n",
    "\n",
    "# create list\n",
    "L2 = np.arange(0,4,1)\n",
    "print (L2)"
   ]
  },
  {
   "cell_type": "markdown",
   "metadata": {},
   "source": [
    "### Dictionaries\n",
    "* Accessed by key, not offset\n",
    "* Unordered collections of arbitrary objects\n",
    "* Variable length, heterogeneous, arbitrarily nestable \n",
    "* Of the category mutable mapping\n",
    "* Tables of object references (hash tables)"
   ]
  },
  {
   "cell_type": "markdown",
   "metadata": {},
   "source": [
    "### Dictionaries operations"
   ]
  },
  {
   "cell_type": "code",
   "execution_count": 162,
   "metadata": {},
   "outputs": [],
   "source": [
    "# empty \n",
    "d1 = {}\n",
    "\n",
    "# two-item \n",
    "d2 = {'spam': 2, 'eggs': 3}\n",
    "\n",
    "# nesting \n",
    "d3 = {'food': {'ham': 1, 'egg': 2}} "
   ]
  },
  {
   "cell_type": "code",
   "execution_count": 163,
   "metadata": {},
   "outputs": [
    {
     "name": "stdout",
     "output_type": "stream",
     "text": [
      "3\n",
      "1\n"
     ]
    }
   ],
   "source": [
    "# indexing \n",
    "print (d2['eggs'])\n",
    "print (d3['food']['ham'])"
   ]
  },
  {
   "cell_type": "code",
   "execution_count": 164,
   "metadata": {},
   "outputs": [
    {
     "name": "stdout",
     "output_type": "stream",
     "text": [
      "True\n"
     ]
    }
   ],
   "source": [
    "# methods \n",
    "print ('eggs' in d2)"
   ]
  },
  {
   "cell_type": "code",
   "execution_count": 165,
   "metadata": {},
   "outputs": [
    {
     "name": "stdout",
     "output_type": "stream",
     "text": [
      "dict_keys(['spam', 'eggs'])\n"
     ]
    }
   ],
   "source": [
    "print (d2.keys())"
   ]
  },
  {
   "cell_type": "code",
   "execution_count": 166,
   "metadata": {},
   "outputs": [
    {
     "name": "stdout",
     "output_type": "stream",
     "text": [
      "dict_values([2, 3])\n"
     ]
    }
   ],
   "source": [
    "print (d2.values())"
   ]
  },
  {
   "cell_type": "code",
   "execution_count": 167,
   "metadata": {},
   "outputs": [
    {
     "name": "stdout",
     "output_type": "stream",
     "text": [
      "spam 2\n",
      "eggs 3\n"
     ]
    }
   ],
   "source": [
    "for key, value in d2.items():\n",
    "    print (key, value)"
   ]
  },
  {
   "cell_type": "code",
   "execution_count": 168,
   "metadata": {},
   "outputs": [
    {
     "name": "stdout",
     "output_type": "stream",
     "text": [
      "2\n"
     ]
    }
   ],
   "source": [
    "#length \n",
    "print (len(d2))"
   ]
  },
  {
   "cell_type": "code",
   "execution_count": 169,
   "metadata": {},
   "outputs": [
    {
     "name": "stdout",
     "output_type": "stream",
     "text": [
      "{'spam': 2, 'eggs': 'new value'}\n"
     ]
    }
   ],
   "source": [
    "# add/change \n",
    "d2['eggs'] = 'new value' \n",
    "print (d2)"
   ]
  },
  {
   "cell_type": "code",
   "execution_count": 170,
   "metadata": {},
   "outputs": [
    {
     "name": "stdout",
     "output_type": "stream",
     "text": [
      "{'spam': 2}\n"
     ]
    }
   ],
   "source": [
    "# deleting \n",
    "del d2['eggs']\n",
    "print (d2)"
   ]
  },
  {
   "cell_type": "markdown",
   "metadata": {},
   "source": [
    "### Tuples\n",
    "* They are like lists but immutable. \n",
    "* Use () instead of []\n",
    "* Why Lists and Tuples?\n",
    " * When you want to make sure the content won’t change."
   ]
  },
  {
   "cell_type": "markdown",
   "metadata": {},
   "source": [
    "### Files"
   ]
  },
  {
   "cell_type": "code",
   "execution_count": 171,
   "metadata": {},
   "outputs": [],
   "source": [
    "# output \n",
    "output = open('/tmp/testio', 'w')\n",
    "\n",
    "# write a string\n",
    "output.write(\"test 1234\\n\") \n",
    "\n",
    "# write a list of strings \n",
    "output.writelines([\"qkejhlqkwerh\\n\", \"oqweioiewur\\n\", \"1324\\n\", \"5432\"])\n",
    "\n",
    "# close \n",
    "output.close()"
   ]
  },
  {
   "cell_type": "code",
   "execution_count": 172,
   "metadata": {},
   "outputs": [
    {
     "name": "stdout",
     "output_type": "stream",
     "text": [
      "tes\n"
     ]
    }
   ],
   "source": [
    "# input \n",
    "input = open('/tmp/testio', 'r') \n",
    "\n",
    "# read N bytes \n",
    "S = input.read(3) \n",
    "print(S)"
   ]
  },
  {
   "cell_type": "code",
   "execution_count": 173,
   "metadata": {},
   "outputs": [
    {
     "name": "stdout",
     "output_type": "stream",
     "text": [
      "S:  t 1234\n",
      "\n"
     ]
    }
   ],
   "source": [
    "# read next \n",
    "S = input.readline()\n",
    "print(\"S: \", S)"
   ]
  },
  {
   "cell_type": "code",
   "execution_count": 174,
   "metadata": {},
   "outputs": [
    {
     "name": "stdout",
     "output_type": "stream",
     "text": [
      "qkejhlqkwerh\n",
      "oqweioiewur\n",
      "1324\n",
      "5432\n"
     ]
    }
   ],
   "source": [
    "# read all \n",
    "S = input.read()\n",
    "print(S)"
   ]
  },
  {
   "cell_type": "code",
   "execution_count": 175,
   "metadata": {},
   "outputs": [
    {
     "name": "stdout",
     "output_type": "stream",
     "text": [
      "['test 1234\\n', 'qkejhlqkwerh\\n', 'oqweioiewur\\n', '1324\\n', '5432']\n"
     ]
    }
   ],
   "source": [
    "# read in lists \n",
    "input = open('/tmp/testio', 'r')\n",
    "print(input.readlines())\n",
    "input.close()"
   ]
  },
  {
   "cell_type": "markdown",
   "metadata": {},
   "source": [
    "### Unsupported Types\n",
    "* no char or single byte, use strings of length one or integers\n",
    "* no pointer\n",
    "* int vs. short vs. long, there is only one integer type in Python\n",
    " * C long\n",
    "* float vs. double, there is only one floating point type in Python \n",
    " * C double"
   ]
  },
  {
   "cell_type": "markdown",
   "metadata": {},
   "source": [
    "### Comparisons vs. Equality"
   ]
  },
  {
   "cell_type": "code",
   "execution_count": 176,
   "metadata": {},
   "outputs": [
    {
     "name": "stdout",
     "output_type": "stream",
     "text": [
      "True False\n"
     ]
    }
   ],
   "source": [
    "L1 = [1, ('a', 3)]\n",
    "L2 = [1, ('a', 3)]\n",
    "print(L1==L2, L1 is L2) # == tests value equivalence, is tests identity"
   ]
  },
  {
   "cell_type": "markdown",
   "metadata": {},
   "source": [
    "### if, elif, else"
   ]
  },
  {
   "cell_type": "code",
   "execution_count": 177,
   "metadata": {},
   "outputs": [
    {
     "name": "stdout",
     "output_type": "stream",
     "text": [
      "but not done\n"
     ]
    }
   ],
   "source": [
    "done = 0\n",
    "x = 0.2\n",
    "if not done and (x > 1):\n",
    "    print(\"x>1\")\n",
    "elif done and (x <= 1):\n",
    "    print(\"x<=1\")\n",
    "else:\n",
    "    print(\"but not done\")"
   ]
  },
  {
   "cell_type": "markdown",
   "metadata": {},
   "source": [
    "### while, break"
   ]
  },
  {
   "cell_type": "code",
   "execution_count": 178,
   "metadata": {},
   "outputs": [
    {
     "name": "stdout",
     "output_type": "stream",
     "text": [
      "1\n",
      "2\n",
      "3\n",
      "4\n",
      "5\n",
      "6\n",
      "7\n",
      "8\n"
     ]
    }
   ],
   "source": [
    "i = 0\n",
    "while i<8:\n",
    "    i += 1\n",
    "    print(i)"
   ]
  },
  {
   "cell_type": "code",
   "execution_count": 179,
   "metadata": {},
   "outputs": [
    {
     "name": "stdout",
     "output_type": "stream",
     "text": [
      "13\n"
     ]
    }
   ],
   "source": [
    "while i<25:\n",
    "    i+=1\n",
    "    if(i==13):\n",
    "        break\n",
    "print(i)"
   ]
  },
  {
   "cell_type": "markdown",
   "metadata": {},
   "source": [
    "### for-Loop"
   ]
  },
  {
   "cell_type": "code",
   "execution_count": 180,
   "metadata": {},
   "outputs": [
    {
     "name": "stdout",
     "output_type": "stream",
     "text": [
      "3\n",
      "5\n",
      "9\n",
      "11\n",
      "13\n",
      "15\n"
     ]
    }
   ],
   "source": [
    "for i in range(3,16,2):\n",
    "    if i==7: continue \n",
    "    print(i)"
   ]
  },
  {
   "cell_type": "code",
   "execution_count": 181,
   "metadata": {},
   "outputs": [
    {
     "name": "stdout",
     "output_type": "stream",
     "text": [
      "h\n",
      "e\n",
      "l\n",
      "l\n",
      "o\n",
      " \n",
      "p\n",
      "y\n",
      "t\n",
      "h\n",
      "o\n",
      "n\n"
     ]
    }
   ],
   "source": [
    "for letter in 'hello python':\n",
    "    print(letter)"
   ]
  },
  {
   "cell_type": "code",
   "execution_count": 182,
   "metadata": {},
   "outputs": [
    {
     "name": "stdout",
     "output_type": "stream",
     "text": [
      "sonification\n",
      "True\n",
      "(0.1+1.2j)\n"
     ]
    }
   ],
   "source": [
    "for item in ['sonification', True, 0.1+1.2J]:\n",
    "    print(item)"
   ]
  },
  {
   "cell_type": "markdown",
   "metadata": {},
   "source": [
    "### pass"
   ]
  },
  {
   "cell_type": "code",
   "execution_count": 183,
   "metadata": {},
   "outputs": [],
   "source": [
    "def stub():\n",
    "    pass"
   ]
  },
  {
   "cell_type": "markdown",
   "metadata": {},
   "source": [
    "* pass is a null operation: nothing happens when it executes. \n",
    "* The pass is also useful in places where your code will eventually go, but has not been written yet (e.g., in stubs for example)"
   ]
  },
  {
   "cell_type": "markdown",
   "metadata": {},
   "source": [
    "### switch/case\n",
    "* There is no such statement in Python. \n",
    "* It can be implemented efficiently with a dictionary of functions:"
   ]
  },
  {
   "cell_type": "code",
   "execution_count": 184,
   "metadata": {},
   "outputs": [
    {
     "data": {
      "text/plain": [
       "17"
      ]
     },
     "execution_count": 184,
     "metadata": {},
     "output_type": "execute_result"
    }
   ],
   "source": [
    "result = {\n",
    "    'a': lambda x: x * 5,\n",
    "    'b': lambda x: x + 7,\n",
    "    'c': lambda x: x - 2\n",
    "}\n",
    "result['b'](10)"
   ]
  },
  {
   "cell_type": "markdown",
   "metadata": {},
   "source": [
    "### lambda construct\n",
    "* Note: anonymous function need be defined with the lambda construct. \n",
    "* lambda functions can be placed whereever a function is expected without formal definition.\n"
   ]
  },
  {
   "cell_type": "code",
   "execution_count": 185,
   "metadata": {},
   "outputs": [],
   "source": [
    "# The following functions f and g do the same thing:\n",
    "\n",
    "def f(x): return x**2\n",
    "\n",
    "g = lambda x: x**2"
   ]
  },
  {
   "cell_type": "markdown",
   "metadata": {},
   "source": [
    "### Errors and Exceptions\n",
    "* NameError: attempt to access an undeclared variable \n",
    "* ZeroDivisionError: division by any numeric zero\n",
    "* SyntaxError: Python interpreter syntax error\n",
    "* IndexError: request for an out-of-range index for sequence\n",
    "* KeyError: request for a non-existent dictionary key \n",
    "* IOError input/output error\n",
    "* AttributeError: attempt to access an unknown object attribute"
   ]
  },
  {
   "cell_type": "code",
   "execution_count": 186,
   "metadata": {},
   "outputs": [
    {
     "name": "stdout",
     "output_type": "stream",
     "text": [
      "could not open file\n"
     ]
    }
   ],
   "source": [
    "try:\n",
    "    f = open('blah')\n",
    "except IOError:\n",
    "    print ('could not open file')"
   ]
  },
  {
   "cell_type": "markdown",
   "metadata": {},
   "source": [
    "### assertion"
   ]
  },
  {
   "cell_type": "code",
   "execution_count": 187,
   "metadata": {},
   "outputs": [],
   "source": [
    "val = 101\n",
    "# assert 0 < val < 100, 'Value out of range'"
   ]
  },
  {
   "cell_type": "markdown",
   "metadata": {},
   "source": [
    "### Functions\n",
    "* Functions can return any type of object\n",
    "* When nothing is return the None object is returned by default\n",
    "* There is two ways to specify function parameters: \n",
    " * standard and keyworded\n",
    "* Parameters can have default arguments\n",
    "* Variable-length arguments are supported"
   ]
  },
  {
   "cell_type": "code",
   "execution_count": 188,
   "metadata": {},
   "outputs": [
    {
     "name": "stdout",
     "output_type": "stream",
     "text": [
      "3\n",
      "3\n",
      "2\n"
     ]
    }
   ],
   "source": [
    "def fn(x,y): return x\n",
    "\n",
    "def test(a, b=2, d=fn):\n",
    "    \"\"\" Function showing how to define\n",
    "        arguments with and w/o default values\n",
    "        Expect a function object for the third.\"\"\"\n",
    "    return d(a,b)\n",
    "\n",
    "print (test(3))\n",
    "print (test(b=4, a=3))\n",
    "print (test(1, 2, lambda x,y: x*y))"
   ]
  },
  {
   "cell_type": "markdown",
   "metadata": {},
   "source": [
    "### Functions with variable-length arguments"
   ]
  },
  {
   "cell_type": "code",
   "execution_count": 189,
   "metadata": {},
   "outputs": [],
   "source": [
    "def vargtest(a, b, *nkw, **kw):\n",
    "    \"\"\"display regular args and all variable args\"\"\"\n",
    "    print ('a is:', a)\n",
    "    print ('b is:', b)\n",
    "\n",
    "    for eachNKW in nkw:\n",
    "        print ('additional non-keyword arg:', eachNKW)\n",
    "    for eachKW in kw.keys():\n",
    "        print (\"additional keyword arg: '%s' with value %s\" %(eachKW, kw[eachKW]))\n",
    "    # for eachKW, KWvalue in kw.items():\n",
    "    #    print (\"additional keyword arg: '%s' with value %s\" %(eachKW, KWvalue))"
   ]
  },
  {
   "cell_type": "code",
   "execution_count": 190,
   "metadata": {},
   "outputs": [
    {
     "name": "stdout",
     "output_type": "stream",
     "text": [
      "a is: 1\n",
      "b is: 2\n",
      "additional non-keyword arg: 3\n",
      "additional non-keyword arg: 4\n",
      "additional keyword arg: 'x' with value 2\n",
      "additional keyword arg: 'y' with value 3\n",
      "None\n"
     ]
    }
   ],
   "source": [
    "print (vargtest(1, 2, 3, 4, x=2, y=3))"
   ]
  },
  {
   "cell_type": "code",
   "execution_count": 257,
   "metadata": {},
   "outputs": [
    {
     "name": "stdout",
     "output_type": "stream",
     "text": [
      "a is: 1\n",
      "b is: 2\n",
      "additional non-keyword arg: 4\n",
      "additional non-keyword arg: 5\n",
      "additional non-keyword arg: 6\n",
      "additional keyword arg: 'x' with value 1\n",
      "additional keyword arg: 'y' with value 3\n",
      "None\n"
     ]
    }
   ],
   "source": [
    "print (vargtest(1,2, *(4,5,6), **{'x':1,'y':3}))"
   ]
  },
  {
   "cell_type": "markdown",
   "metadata": {},
   "source": [
    "## Modules"
   ]
  },
  {
   "cell_type": "markdown",
   "metadata": {},
   "source": [
    "### Modules, namespaces and packages"
   ]
  },
  {
   "cell_type": "markdown",
   "metadata": {},
   "source": [
    "* A file is a module. \n",
    "* Suppose we have a file called ’myio.py’, implementing a function called ’load’\n",
    "* If we want to use that function from another module we do\n",
    "\n",
    "> import myio\n",
    "\n",
    "> myio.load()\n",
    "\n",
    "* All the code present in ’myio.py’ will be in the ’myio’ namespace\n",
    "* You can import specific parts of a module \n",
    "\n",
    "> from myio import load\n",
    "\n",
    "> load()\n",
    "\n",
    "* Packages are bundle of modules. We won’t cover that."
   ]
  },
  {
   "cell_type": "markdown",
   "metadata": {},
   "source": [
    "## Classes"
   ]
  },
  {
   "cell_type": "code",
   "execution_count": 258,
   "metadata": {},
   "outputs": [
    {
     "data": {
      "text/plain": [
       "3.141592654"
      ]
     },
     "execution_count": 258,
     "metadata": {},
     "output_type": "execute_result"
    }
   ],
   "source": [
    "class MyObject: \n",
    "    def __init__(self):\n",
    "        pass\n",
    "        \n",
    "class Circle(MyObject):\n",
    "    def __init__(self, radian):\n",
    "        \"Create a circle\"\n",
    "        self.radian = radian\n",
    "        self.diameter = radian*2\n",
    "    def __del__(self):\n",
    "        pass\n",
    "    def area(self):\n",
    "        return self.radian**2*3.141592654\n",
    "\n",
    "c = Circle(1); \n",
    "c.area()"
   ]
  },
  {
   "cell_type": "markdown",
   "metadata": {},
   "source": [
    "### Function overloading\n",
    "* Python does not support method or function overloading \n",
    "* You have to rely on the type() built-in function"
   ]
  },
  {
   "cell_type": "code",
   "execution_count": 259,
   "metadata": {},
   "outputs": [
    {
     "name": "stdout",
     "output_type": "stream",
     "text": [
      "A complex number\n"
     ]
    }
   ],
   "source": [
    "import types \n",
    "def testtype(a):\n",
    "    if isinstance(a, float): # if type(a) is float: - also works but doesn't support inheretance\n",
    "        print (\"I got a float\")\n",
    "    elif isinstance(a, complex): # if type(a) is complex: - also works but doesn't support inheretance\n",
    "        print (\"A complex number\")\n",
    "    else:\n",
    "        print (\"something else\")\n",
    "testtype(3.5+3j)"
   ]
  },
  {
   "cell_type": "markdown",
   "metadata": {},
   "source": [
    "## Python standard library\n",
    "### standard library core modules\n",
    "* os: file and process operations\n",
    "* os.path: platform-independant path and filename utilities\n",
    "* time: dates and times related functions \n",
    "* string: commonly used string operations\n",
    "* math, cmath: math operations and constants, complex version \n",
    "* re: regular expressions\n",
    "* sys: access to interpreter variables\n",
    "* gc: control over garbage collector\n",
    "* copy: allow to copy object"
   ]
  },
  {
   "cell_type": "markdown",
   "metadata": {},
   "source": [
    "## More modules\n",
    "* Support for threads, pipes, signals, etc.\n",
    "* Support for common file formats: XML, SGML and HTML; zip and gzip; a lexer\n",
    "* Support for network protocols\n",
    "* Support for reading and writing images and sound\n",
    "* Support for databases\n",
    "* Support for debugging, profiling and analysing code"
   ]
  },
  {
   "cell_type": "markdown",
   "metadata": {},
   "source": [
    "## Many GUI packages\n",
    "* Tkinter standard Python interface to the Tk GUI toolkit (cross-platform)\n",
    "* wxPython toolkit for Python built around the popular wxWidgets C++ toolkit (cross-platform)\n",
    "* PyQt binding to the Qt toolkit (cross-platform) \n",
    "* PyGTK bindings for the GTK widget set￼"
   ]
  },
  {
   "cell_type": "markdown",
   "metadata": {},
   "source": [
    "## NumPy: fundamental package for scientific computing with Python\n",
    "* powerful N-dimensional array object sophisticated functions\n",
    "* Linear algebra functions\n",
    "* Fourier transforms\n",
    "* Versatile random number capabilities \n",
    "* Tools for integrating C/C++ code."
   ]
  },
  {
   "cell_type": "markdown",
   "metadata": {},
   "source": [
    "## Comparing Numpy with Matlab\n",
    "* In NumPy, operation are elementwise by default\n",
    " * There is a matrix type for linear algebra (subclass of array)\n",
    "* Indexing starts at 0 in NumPy\n",
    "* NumPy/SciPy is free of charge\n",
    "* Matlab has lots of ’toolboxes’ for specific task (lot less in Numpy/SciPy)\n",
    "* There are many packages for plotting in Python that are as good as Matlab"
   ]
  },
  {
   "cell_type": "markdown",
   "metadata": {},
   "source": [
    "## Data table in numpy"
   ]
  },
  {
   "cell_type": "code",
   "execution_count": 2,
   "metadata": {},
   "outputs": [],
   "source": [
    "# useful header\n",
    "import matplotlib.pyplot as plt\n",
    "import numpy as np\n",
    "import scipy as sp\n",
    "%matplotlib inline\n",
    "# discouraged: %pylab inline"
   ]
  },
  {
   "cell_type": "code",
   "execution_count": 3,
   "metadata": {},
   "outputs": [],
   "source": [
    "d = np.zeros((1000, 3))"
   ]
  },
  {
   "cell_type": "code",
   "execution_count": 4,
   "metadata": {},
   "outputs": [
    {
     "name": "stdout",
     "output_type": "stream",
     "text": [
      "1000 3\n"
     ]
    }
   ],
   "source": [
    "N, dim = np.shape(d)\n",
    "print (N, dim)"
   ]
  },
  {
   "cell_type": "code",
   "execution_count": 5,
   "metadata": {},
   "outputs": [],
   "source": [
    "for i in range(N):\n",
    "    d[i,0] = i*0.05\n",
    "    d[i,1] = np.sin(0.39*i)+ 0.1*np.random.randn(1)\n",
    "    d[i,2] = np.cos(0.1*i) + 0.1*np.random.randn(1)"
   ]
  },
  {
   "cell_type": "code",
   "execution_count": 6,
   "metadata": {},
   "outputs": [
    {
     "name": "stdout",
     "output_type": "stream",
     "text": [
      "[[  0.00000000e+00   3.74825297e-03   1.08078783e+00]\n",
      " [  5.00000000e-02   2.79657490e-01   1.13471906e+00]\n",
      " [  1.00000000e-01   8.49399559e-01   7.73988293e-01]\n",
      " ..., \n",
      " [  4.98500000e+01  -6.87122343e-01   7.20266660e-01]\n",
      " [  4.99000000e+01  -3.69229967e-01   8.47627171e-01]\n",
      " [  4.99500000e+01   7.27574340e-02   4.91659506e-01]]\n"
     ]
    }
   ],
   "source": [
    "print (d)"
   ]
  },
  {
   "cell_type": "code",
   "execution_count": 7,
   "metadata": {},
   "outputs": [
    {
     "data": {
      "text/plain": [
       "[<matplotlib.lines.Line2D at 0x10355b160>]"
      ]
     },
     "execution_count": 7,
     "metadata": {},
     "output_type": "execute_result"
    },
    {
     "data": {
      "image/png": "[encoded data removed]",
      "text/plain": [
       "<Figure size 432x288 with 1 Axes>"
      ]
     },
     "metadata": {},
     "output_type": "display_data"
    }
   ],
   "source": [
    "plt.plot(d[:,0], d[:,2], \"g-\")"
   ]
  },
  {
   "cell_type": "code",
   "execution_count": 8,
   "metadata": {},
   "outputs": [
    {
     "data": {
      "text/plain": [
       "[<matplotlib.lines.Line2D at 0x114400160>]"
      ]
     },
     "execution_count": 8,
     "metadata": {},
     "output_type": "execute_result"
    },
    {
     "data": {
      "image/png": "[encoded data removed]",
      "text/plain": [
       "<Figure size 432x288 with 1 Axes>"
      ]
     },
     "metadata": {},
     "output_type": "display_data"
    }
   ],
   "source": [
    "plt.plot(d[500:1000, 0], d[500:1000,2], \".\")\n",
    "# plt.show()"
   ]
  },
  {
   "cell_type": "markdown",
   "metadata": {},
   "source": [
    "## Some frequently used NumPy expressions"
   ]
  },
  {
   "cell_type": "code",
   "execution_count": 9,
   "metadata": {},
   "outputs": [
    {
     "data": {
      "text/plain": [
       "array([[ 1.,  2.,  3.],\n",
       "       [ 4.,  5.,  6.]])"
      ]
     },
     "execution_count": 9,
     "metadata": {},
     "output_type": "execute_result"
    }
   ],
   "source": [
    "a = np.array([[1.,2.,3.],[4.,5.,6.]])\n",
    "a"
   ]
  },
  {
   "cell_type": "code",
   "execution_count": 10,
   "metadata": {},
   "outputs": [
    {
     "data": {
      "text/plain": [
       "array([ 4.,  5.,  6.])"
      ]
     },
     "execution_count": 10,
     "metadata": {},
     "output_type": "execute_result"
    }
   ],
   "source": [
    "a[-1] # last element"
   ]
  },
  {
   "cell_type": "code",
   "execution_count": 11,
   "metadata": {},
   "outputs": [
    {
     "data": {
      "text/plain": [
       "4.0"
      ]
     },
     "execution_count": 11,
     "metadata": {},
     "output_type": "execute_result"
    }
   ],
   "source": [
    "a[1,0] # matrix access"
   ]
  },
  {
   "cell_type": "code",
   "execution_count": 12,
   "metadata": {},
   "outputs": [
    {
     "name": "stdout",
     "output_type": "stream",
     "text": [
      "[ 4.  5.  6.]\n",
      "[ 4.  5.  6.]\n"
     ]
    }
   ],
   "source": [
    "print (a[1])\n",
    "# or \n",
    "print(a[1,:]) # row vector (resp. data cube of d-1 dim)"
   ]
  },
  {
   "cell_type": "code",
   "execution_count": 13,
   "metadata": {},
   "outputs": [
    {
     "data": {
      "text/plain": [
       "array([[54, 78, 46,  4, 12],\n",
       "       [64, 53, 92, 60, 70],\n",
       "       [57, 31, 86, 46, 58],\n",
       "       [40, 20, 11, 37, 23],\n",
       "       [39, 42, 39, 79, 76],\n",
       "       [ 7, 61, 88, 66, 51],\n",
       "       [ 8, 63, 90, 80,  2],\n",
       "       [30, 70, 79, 47, 48],\n",
       "       [81, 39, 30, 69, 70],\n",
       "       [65, 13,  9,  8,  8],\n",
       "       [13, 50, 11, 60, 55],\n",
       "       [83, 32, 53, 82, 42],\n",
       "       [46, 38, 66, 15, 70],\n",
       "       [43, 14,  1, 36,  3],\n",
       "       [23, 16, 58, 60, 71]])"
      ]
     },
     "execution_count": 13,
     "metadata": {},
     "output_type": "execute_result"
    }
   ],
   "source": [
    "a = np.random.randint(0, 99, (15,5)); \n",
    "a"
   ]
  },
  {
   "cell_type": "code",
   "execution_count": 14,
   "metadata": {},
   "outputs": [
    {
     "data": {
      "text/plain": [
       "array([[54, 78, 46,  4, 12],\n",
       "       [64, 53, 92, 60, 70],\n",
       "       [57, 31, 86, 46, 58],\n",
       "       [40, 20, 11, 37, 23],\n",
       "       [39, 42, 39, 79, 76]])"
      ]
     },
     "execution_count": 14,
     "metadata": {},
     "output_type": "execute_result"
    }
   ],
   "source": [
    "a[0:5]  # or a[:5] or a[0:5,:] # slicing "
   ]
  },
  {
   "cell_type": "code",
   "execution_count": 15,
   "metadata": {},
   "outputs": [
    {
     "data": {
      "text/plain": [
       "array([[13, 50, 11, 60, 55],\n",
       "       [83, 32, 53, 82, 42],\n",
       "       [46, 38, 66, 15, 70],\n",
       "       [43, 14,  1, 36,  3],\n",
       "       [23, 16, 58, 60, 71]])"
      ]
     },
     "execution_count": 15,
     "metadata": {},
     "output_type": "execute_result"
    }
   ],
   "source": [
    "a[-5:] # neg indices wrap around"
   ]
  },
  {
   "cell_type": "code",
   "execution_count": 16,
   "metadata": {},
   "outputs": [
    {
     "data": {
      "text/plain": [
       "array([[12],\n",
       "       [70],\n",
       "       [58]])"
      ]
     },
     "execution_count": 16,
     "metadata": {},
     "output_type": "execute_result"
    }
   ],
   "source": [
    "a[0:3][:,4:9]"
   ]
  },
  {
   "cell_type": "code",
   "execution_count": 17,
   "metadata": {},
   "outputs": [
    {
     "data": {
      "text/plain": [
       "array([[54, 78, 46,  4, 12],\n",
       "       [57, 31, 86, 46, 58],\n",
       "       [39, 42, 39, 79, 76],\n",
       "       [ 8, 63, 90, 80,  2],\n",
       "       [81, 39, 30, 69, 70],\n",
       "       [13, 50, 11, 60, 55],\n",
       "       [46, 38, 66, 15, 70],\n",
       "       [23, 16, 58, 60, 71]])"
      ]
     },
     "execution_count": 17,
     "metadata": {},
     "output_type": "execute_result"
    }
   ],
   "source": [
    "a[::2,:] # stride in row yet all columns"
   ]
  },
  {
   "cell_type": "code",
   "execution_count": 18,
   "metadata": {},
   "outputs": [
    {
     "data": {
      "text/plain": [
       "array([[23, 16, 58, 60, 71],\n",
       "       [43, 14,  1, 36,  3],\n",
       "       [46, 38, 66, 15, 70],\n",
       "       [83, 32, 53, 82, 42],\n",
       "       [13, 50, 11, 60, 55],\n",
       "       [65, 13,  9,  8,  8],\n",
       "       [81, 39, 30, 69, 70],\n",
       "       [30, 70, 79, 47, 48],\n",
       "       [ 8, 63, 90, 80,  2],\n",
       "       [ 7, 61, 88, 66, 51],\n",
       "       [39, 42, 39, 79, 76],\n",
       "       [40, 20, 11, 37, 23],\n",
       "       [57, 31, 86, 46, 58],\n",
       "       [64, 53, 92, 60, 70],\n",
       "       [54, 78, 46,  4, 12]])"
      ]
     },
     "execution_count": 18,
     "metadata": {},
     "output_type": "execute_result"
    }
   ],
   "source": [
    "a[::-1,:] # reverse row order"
   ]
  },
  {
   "cell_type": "code",
   "execution_count": 19,
   "metadata": {},
   "outputs": [
    {
     "data": {
      "text/plain": [
       "array([[54, 64, 57, 40, 39,  7,  8, 30, 81, 65, 13, 83, 46, 43, 23],\n",
       "       [78, 53, 31, 20, 42, 61, 63, 70, 39, 13, 50, 32, 38, 14, 16],\n",
       "       [46, 92, 86, 11, 39, 88, 90, 79, 30,  9, 11, 53, 66,  1, 58],\n",
       "       [ 4, 60, 46, 37, 79, 66, 80, 47, 69,  8, 60, 82, 15, 36, 60],\n",
       "       [12, 70, 58, 23, 76, 51,  2, 48, 70,  8, 55, 42, 70,  3, 71]])"
      ]
     },
     "execution_count": 19,
     "metadata": {},
     "output_type": "execute_result"
    }
   ],
   "source": [
    "a.transpose() # or a.T "
   ]
  },
  {
   "cell_type": "code",
   "execution_count": 20,
   "metadata": {},
   "outputs": [
    {
     "name": "stdout",
     "output_type": "stream",
     "text": [
      "[[ 93.+21.j  87.+81.j  85.+11.j]\n",
      " [ 66. +9.j  92.+27.j  37.+50.j]\n",
      " [ 29.+76.j  44.+49.j  12.+18.j]]\n"
     ]
    },
    {
     "data": {
      "text/plain": [
       "array([[ 93.-21.j,  87.-81.j,  85.-11.j],\n",
       "       [ 66. -9.j,  92.-27.j,  37.-50.j],\n",
       "       [ 29.-76.j,  44.-49.j,  12.-18.j]])"
      ]
     },
     "execution_count": 20,
     "metadata": {},
     "output_type": "execute_result"
    }
   ],
   "source": [
    "b = np.random.randint(0,99,(3,3)) + np.random.randint(0,99,(3,3)) * 1j\n",
    "print (b)\n",
    "b.conj() # or a.conj().T "
   ]
  },
  {
   "cell_type": "code",
   "execution_count": 21,
   "metadata": {},
   "outputs": [
    {
     "data": {
      "text/plain": [
       "28"
      ]
     },
     "execution_count": 21,
     "metadata": {},
     "output_type": "execute_result"
    }
   ],
   "source": [
    "a = np.array([1,3,2])\n",
    "b = np.array([4,2,9])\n",
    "np.dot(a,b) # scalar product"
   ]
  },
  {
   "cell_type": "code",
   "execution_count": 22,
   "metadata": {},
   "outputs": [
    {
     "data": {
      "text/plain": [
       "array([ 4,  6, 18])"
      ]
     },
     "execution_count": 22,
     "metadata": {},
     "output_type": "execute_result"
    }
   ],
   "source": [
    "a * b # elementwise product (delivers array)"
   ]
  },
  {
   "cell_type": "code",
   "execution_count": 23,
   "metadata": {},
   "outputs": [
    {
     "data": {
      "text/plain": [
       "array([ 0.25      ,  1.5       ,  0.22222222])"
      ]
     },
     "execution_count": 23,
     "metadata": {},
     "output_type": "execute_result"
    }
   ],
   "source": [
    "a/b # elementwise division"
   ]
  },
  {
   "cell_type": "code",
   "execution_count": 24,
   "metadata": {},
   "outputs": [
    {
     "data": {
      "text/plain": [
       "array([ 1, 27,  8])"
      ]
     },
     "execution_count": 24,
     "metadata": {},
     "output_type": "execute_result"
    }
   ],
   "source": [
    "a**3 # elementwise potential "
   ]
  },
  {
   "cell_type": "code",
   "execution_count": 25,
   "metadata": {},
   "outputs": [
    {
     "data": {
      "text/plain": [
       "(array([1, 2]),)"
      ]
     },
     "execution_count": 25,
     "metadata": {},
     "output_type": "execute_result"
    }
   ],
   "source": [
    "np.where(a>1) # index array for true condition"
   ]
  },
  {
   "cell_type": "code",
   "execution_count": 26,
   "metadata": {},
   "outputs": [
    {
     "name": "stdout",
     "output_type": "stream",
     "text": [
      "[1 3 2]\n"
     ]
    },
    {
     "data": {
      "text/plain": [
       "array([0, 3, 2])"
      ]
     },
     "execution_count": 26,
     "metadata": {},
     "output_type": "execute_result"
    }
   ],
   "source": [
    "print(a)\n",
    "a[a<1.5] = 0 # assign 0 to all elements that fulfill condition\n",
    "a"
   ]
  },
  {
   "cell_type": "code",
   "execution_count": 27,
   "metadata": {},
   "outputs": [
    {
     "data": {
      "text/plain": [
       "array([3, 3, 3])"
      ]
     },
     "execution_count": 27,
     "metadata": {},
     "output_type": "execute_result"
    }
   ],
   "source": [
    "a[:] = 3 # set all elements to 3 \n",
    "a"
   ]
  },
  {
   "cell_type": "code",
   "execution_count": 351,
   "metadata": {},
   "outputs": [
    {
     "name": "stdout",
     "output_type": "stream",
     "text": [
      "True\n",
      "[[ 7.  1.  1.  1.  1.  1.  1.  1.  1.]\n",
      " [ 1.  1.  1.  1.  1.  1.  1.  1.  1.]\n",
      " [ 1.  1.  1.  1.  1.  1.  1.  1.  1.]]\n"
     ]
    },
    {
     "data": {
      "text/plain": [
       "False"
      ]
     },
     "execution_count": 351,
     "metadata": {},
     "output_type": "execute_result"
    }
   ],
   "source": [
    "x = np.ones((3,9))\n",
    "y = x\n",
    "print(y is x)\n",
    "y[0,0] = 7\n",
    "print(x)\n",
    "y = x.copy() # if you need a copy instead of a reference copy\n",
    "y is x"
   ]
  },
  {
   "cell_type": "code",
   "execution_count": 352,
   "metadata": {},
   "outputs": [
    {
     "data": {
      "text/plain": [
       "array([ 1.,  1.,  1.,  1.,  1.,  1.,  1.,  1.,  1.])"
      ]
     },
     "execution_count": 352,
     "metadata": {},
     "output_type": "execute_result"
    }
   ],
   "source": [
    "y = x[2,:].copy() # copy of a row vector\n",
    "y"
   ]
  },
  {
   "cell_type": "code",
   "execution_count": 353,
   "metadata": {},
   "outputs": [
    {
     "name": "stdout",
     "output_type": "stream",
     "text": [
      "[1 2 3 9 8 7]\n",
      "[1 9 2 8 3 7]\n"
     ]
    }
   ],
   "source": [
    "x = np.array([[1,2,3],[9,8,7]])\n",
    "print(x.flatten('C')) # reduce dimensionality C=row major = normal standard\n",
    "print(x.flatten('F')) # reduce dimensionality F=column"
   ]
  },
  {
   "cell_type": "code",
   "execution_count": 354,
   "metadata": {},
   "outputs": [
    {
     "data": {
      "text/plain": [
       "array([  1.,   2.,   3.,   4.,   5.,   6.,   7.,   8.,   9.,  10.])"
      ]
     },
     "execution_count": 354,
     "metadata": {},
     "output_type": "execute_result"
    }
   ],
   "source": [
    "np.arange(1.,11.) # or r [1.:11.] # range"
   ]
  },
  {
   "cell_type": "code",
   "execution_count": 355,
   "metadata": {},
   "outputs": [
    {
     "data": {
      "text/plain": [
       "array([ 0.,  1.,  2.,  3.,  4.,  5.,  6.,  7.,  8.,  9.])"
      ]
     },
     "execution_count": 355,
     "metadata": {},
     "output_type": "execute_result"
    }
   ],
   "source": [
    "np.arange(10.) # or r [:10.] "
   ]
  },
  {
   "cell_type": "code",
   "execution_count": 356,
   "metadata": {},
   "outputs": [
    {
     "data": {
      "text/plain": [
       "array([[ 0.,  0.,  0.,  0.],\n",
       "       [ 0.,  0.,  0.,  0.],\n",
       "       [ 0.,  0.,  0.,  0.]])"
      ]
     },
     "execution_count": 356,
     "metadata": {},
     "output_type": "execute_result"
    }
   ],
   "source": [
    "np.zeros((3,4)) # multidimensional 0 array with tuple dimensions"
   ]
  },
  {
   "cell_type": "code",
   "execution_count": 357,
   "metadata": {},
   "outputs": [
    {
     "data": {
      "text/plain": [
       "array([[[ 0.,  0.,  0.,  0.,  0.],\n",
       "        [ 0.,  0.,  0.,  0.,  0.],\n",
       "        [ 0.,  0.,  0.,  0.,  0.],\n",
       "        [ 0.,  0.,  0.,  0.,  0.]],\n",
       "\n",
       "       [[ 0.,  0.,  0.,  0.,  0.],\n",
       "        [ 0.,  0.,  0.,  0.,  0.],\n",
       "        [ 0.,  0.,  0.,  0.,  0.],\n",
       "        [ 0.,  0.,  0.,  0.,  0.]],\n",
       "\n",
       "       [[ 0.,  0.,  0.,  0.,  0.],\n",
       "        [ 0.,  0.,  0.,  0.,  0.],\n",
       "        [ 0.,  0.,  0.,  0.,  0.],\n",
       "        [ 0.,  0.,  0.,  0.,  0.]]])"
      ]
     },
     "execution_count": 357,
     "metadata": {},
     "output_type": "execute_result"
    }
   ],
   "source": [
    "np.zeros((3,4,5))"
   ]
  },
  {
   "cell_type": "code",
   "execution_count": 358,
   "metadata": {},
   "outputs": [
    {
     "data": {
      "text/plain": [
       "array([[ 1.,  1.,  1.,  1.],\n",
       "       [ 1.,  1.,  1.,  1.],\n",
       "       [ 1.,  1.,  1.,  1.]])"
      ]
     },
     "execution_count": 358,
     "metadata": {},
     "output_type": "execute_result"
    }
   ],
   "source": [
    "np.ones((3,4))"
   ]
  },
  {
   "cell_type": "code",
   "execution_count": 359,
   "metadata": {},
   "outputs": [
    {
     "data": {
      "text/plain": [
       "array([[ 1.,  0.,  0.],\n",
       "       [ 0.,  1.,  0.],\n",
       "       [ 0.,  0.,  1.]])"
      ]
     },
     "execution_count": 359,
     "metadata": {},
     "output_type": "execute_result"
    }
   ],
   "source": [
    "np.eye(3) # 1-matrix (diagonal matrix)"
   ]
  },
  {
   "cell_type": "code",
   "execution_count": 360,
   "metadata": {},
   "outputs": [
    {
     "data": {
      "text/plain": [
       "array([[0, 0, 0, 0, 0],\n",
       "       [0, 1, 0, 0, 0],\n",
       "       [0, 0, 2, 0, 0],\n",
       "       [0, 0, 0, 3, 0],\n",
       "       [0, 0, 0, 0, 4]])"
      ]
     },
     "execution_count": 360,
     "metadata": {},
     "output_type": "execute_result"
    }
   ],
   "source": [
    "a = np.arange(5)\n",
    "np.diag(a) # or a.diagonal()"
   ]
  },
  {
   "cell_type": "code",
   "execution_count": 361,
   "metadata": {},
   "outputs": [
    {
     "data": {
      "text/plain": [
       "array([[0, 0, 0, 0, 0, 0],\n",
       "       [0, 0, 0, 0, 0, 0],\n",
       "       [0, 1, 0, 0, 0, 0],\n",
       "       [0, 0, 2, 0, 0, 0],\n",
       "       [0, 0, 0, 3, 0, 0],\n",
       "       [0, 0, 0, 0, 4, 0]])"
      ]
     },
     "execution_count": 361,
     "metadata": {},
     "output_type": "execute_result"
    }
   ],
   "source": [
    "np.diag(a,-1) # or a.diagonal(0)"
   ]
  },
  {
   "cell_type": "code",
   "execution_count": 362,
   "metadata": {
    "scrolled": true
   },
   "outputs": [
    {
     "data": {
      "text/plain": [
       "array([[0, 0, 0, 0, 0, 0],\n",
       "       [0, 0, 1, 0, 0, 0],\n",
       "       [0, 0, 0, 2, 0, 0],\n",
       "       [0, 0, 0, 0, 3, 0],\n",
       "       [0, 0, 0, 0, 0, 4],\n",
       "       [0, 0, 0, 0, 0, 0]])"
      ]
     },
     "execution_count": 362,
     "metadata": {},
     "output_type": "execute_result"
    }
   ],
   "source": [
    "np.diag(a,1) # or a.diagonal(0)"
   ]
  },
  {
   "cell_type": "code",
   "execution_count": 363,
   "metadata": {},
   "outputs": [
    {
     "data": {
      "text/plain": [
       "array([[ 0.2644183 ,  0.57871126,  0.28053999,  0.15102734],\n",
       "       [ 0.19769105,  0.34698286,  0.08947949,  0.50861839],\n",
       "       [ 0.47763243,  0.02413813,  0.21314183,  0.38590595]])"
      ]
     },
     "execution_count": 363,
     "metadata": {},
     "output_type": "execute_result"
    }
   ],
   "source": [
    "np.random.rand(3,4)"
   ]
  },
  {
   "cell_type": "code",
   "execution_count": 364,
   "metadata": {},
   "outputs": [
    {
     "data": {
      "text/plain": [
       "array([ 1.        ,  1.66666667,  2.33333333,  3.        ])"
      ]
     },
     "execution_count": 364,
     "metadata": {},
     "output_type": "execute_result"
    }
   ],
   "source": [
    "np.linspace(1,3,4)"
   ]
  },
  {
   "cell_type": "code",
   "execution_count": 365,
   "metadata": {},
   "outputs": [
    {
     "data": {
      "text/plain": [
       "array([[0, 1, 2, 3, 4, 0, 1, 2, 3, 4],\n",
       "       [0, 1, 2, 3, 4, 0, 1, 2, 3, 4],\n",
       "       [0, 1, 2, 3, 4, 0, 1, 2, 3, 4]])"
      ]
     },
     "execution_count": 365,
     "metadata": {},
     "output_type": "execute_result"
    }
   ],
   "source": [
    "np.tile(a, (3, 2))"
   ]
  },
  {
   "cell_type": "code",
   "execution_count": 366,
   "metadata": {},
   "outputs": [
    {
     "name": "stdout",
     "output_type": "stream",
     "text": [
      "[[ 8 19]\n",
      " [ 8  8]]\n",
      "[[4 2 1 1]\n",
      " [4 0 4 3]]\n"
     ]
    },
    {
     "data": {
      "text/plain": [
       "array([[ 8, 19,  4,  2,  1,  1],\n",
       "       [ 8,  8,  4,  0,  4,  3]])"
      ]
     },
     "execution_count": 366,
     "metadata": {},
     "output_type": "execute_result"
    }
   ],
   "source": [
    "a = np.random.randint(0,20,(2,2)); b = np.random.randint(0,5,(2,4))\n",
    "print(a)\n",
    "print(b)\n",
    "np.concatenate((a,b),1) # or np.hstack((a,b)) or c [a,b] or np.concatenate((a,b)) or np.vstack((a,b)) or r [a,b] "
   ]
  },
  {
   "cell_type": "code",
   "execution_count": 367,
   "metadata": {},
   "outputs": [
    {
     "data": {
      "text/plain": [
       "19"
      ]
     },
     "execution_count": 367,
     "metadata": {},
     "output_type": "execute_result"
    }
   ],
   "source": [
    "a.max()"
   ]
  },
  {
   "cell_type": "code",
   "execution_count": 368,
   "metadata": {},
   "outputs": [
    {
     "data": {
      "text/plain": [
       "array([ 8, 19])"
      ]
     },
     "execution_count": 368,
     "metadata": {},
     "output_type": "execute_result"
    }
   ],
   "source": [
    "a.max(0)"
   ]
  },
  {
   "cell_type": "code",
   "execution_count": 369,
   "metadata": {},
   "outputs": [
    {
     "data": {
      "text/plain": [
       "array([19,  8])"
      ]
     },
     "execution_count": 369,
     "metadata": {},
     "output_type": "execute_result"
    }
   ],
   "source": [
    "a.max(1)"
   ]
  },
  {
   "cell_type": "code",
   "execution_count": 370,
   "metadata": {},
   "outputs": [
    {
     "name": "stdout",
     "output_type": "stream",
     "text": [
      "[[ 1  3 15  0]\n",
      " [ 9 14  1 18]]\n",
      "[[0 4 2 4]\n",
      " [4 1 4 1]]\n"
     ]
    },
    {
     "data": {
      "text/plain": [
       "array([[ 1,  4, 15,  4],\n",
       "       [ 9, 14,  4, 18]])"
      ]
     },
     "execution_count": 370,
     "metadata": {},
     "output_type": "execute_result"
    }
   ],
   "source": [
    "a = np.random.randint(0,20,(2,4)); b = np.random.randint(0,5,(2,4))\n",
    "print(a)\n",
    "print(b)\n",
    "np.where(a>b, a, b)"
   ]
  },
  {
   "cell_type": "code",
   "execution_count": 371,
   "metadata": {},
   "outputs": [
    {
     "name": "stdout",
     "output_type": "stream",
     "text": [
      "[0 0]\n"
     ]
    },
    {
     "data": {
      "text/plain": [
       "0.0"
      ]
     },
     "execution_count": 371,
     "metadata": {},
     "output_type": "execute_result"
    }
   ],
   "source": [
    "v = np.random.randint(0,5,2)\n",
    "print(v)\n",
    "np.sqrt(np.dot(v,v)) # or linalg.norm(v)"
   ]
  },
  {
   "cell_type": "code",
   "execution_count": 372,
   "metadata": {},
   "outputs": [
    {
     "data": {
      "text/plain": [
       "array([[ 0.17647059, -0.09803922,  0.21568627],\n",
       "       [ 0.23529412, -0.01960784, -0.15686275],\n",
       "       [-0.26470588,  0.14705882,  0.17647059]])"
      ]
     },
     "execution_count": 372,
     "metadata": {},
     "output_type": "execute_result"
    }
   ],
   "source": [
    "a = np.random.randint(0,10,(3,3))\n",
    "np.linalg.inv(a)"
   ]
  },
  {
   "cell_type": "code",
   "execution_count": 373,
   "metadata": {},
   "outputs": [
    {
     "data": {
      "text/plain": [
       "array([[ 0.17647059, -0.09803922,  0.21568627],\n",
       "       [ 0.23529412, -0.01960784, -0.15686275],\n",
       "       [-0.26470588,  0.14705882,  0.17647059]])"
      ]
     },
     "execution_count": 373,
     "metadata": {},
     "output_type": "execute_result"
    }
   ],
   "source": [
    "np.linalg.pinv(a)"
   ]
  },
  {
   "cell_type": "code",
   "execution_count": 374,
   "metadata": {},
   "outputs": [
    {
     "data": {
      "text/plain": [
       "array([ 0.5       , -0.08333333, -0.16666667])"
      ]
     },
     "execution_count": 374,
     "metadata": {},
     "output_type": "execute_result"
    }
   ],
   "source": [
    "a = np.random.randint(0,10,(3,3)); b = np.random.randint(0,10,3)\n",
    "\n",
    "np.linalg.solve(a,b)"
   ]
  },
  {
   "cell_type": "code",
   "execution_count": 375,
   "metadata": {},
   "outputs": [
    {
     "name": "stdout",
     "output_type": "stream",
     "text": [
      "[[-0.60713294  0.40468815 -0.68382534]\n",
      " [-0.58544383 -0.80969537  0.04060703]\n",
      " [-0.53725702  0.42499519  0.72851491]] [ 17.83638339   3.48320625   1.93150242] [[-0.70900548 -0.39036576 -0.58730384]\n",
      " [ 0.16218131  0.72023266 -0.67450881]\n",
      " [ 0.68630055 -0.57348015 -0.44733887]]\n"
     ]
    }
   ],
   "source": [
    "(U, S, V) = np.linalg.svd(a)\n",
    "print(U,S,V)"
   ]
  },
  {
   "cell_type": "code",
   "execution_count": 376,
   "metadata": {},
   "outputs": [
    {
     "name": "stdout",
     "output_type": "stream",
     "text": [
      "[[ 1.+0.j -0.-2.j]\n",
      " [ 0.+2.j  5.+0.j]]\n"
     ]
    },
    {
     "data": {
      "text/plain": [
       "array([[ 1.+0.j,  0.+0.j],\n",
       "       [ 0.+2.j,  1.+0.j]])"
      ]
     },
     "execution_count": 376,
     "metadata": {},
     "output_type": "execute_result"
    }
   ],
   "source": [
    "a = np.array([[1,-2j],[2j,5]])\n",
    "print(a)\n",
    "np.linalg.cholesky(a) # cholesky decomposition"
   ]
  },
  {
   "cell_type": "code",
   "execution_count": 377,
   "metadata": {},
   "outputs": [
    {
     "data": {
      "text/plain": [
       "(array([ 12.22904751,  -3.77403809,  -0.45500942]),\n",
       " array([[-0.55479715, -0.76617882, -0.08205336],\n",
       "        [-0.72254834,  0.33860604, -0.68429023],\n",
       "        [-0.41246093,  0.5461831 ,  0.72457858]]))"
      ]
     },
     "execution_count": 377,
     "metadata": {},
     "output_type": "execute_result"
    }
   ],
   "source": [
    "a = np.random.randint(0,10,(3,3))\n",
    "np.linalg.eig(a) # eigenvalues + eigenvectors"
   ]
  },
  {
   "cell_type": "code",
   "execution_count": 378,
   "metadata": {},
   "outputs": [
    {
     "data": {
      "text/plain": [
       "(array([[-0.22645541,  0.95857561,  0.17277369],\n",
       "        [-0.79259392, -0.07825107, -0.6047079 ],\n",
       "        [-0.56613852, -0.27387875,  0.77748158]]),\n",
       " array([[-8.83176087, -5.43492976, -6.22752369],\n",
       "        [ 0.        ,  3.93211628,  3.85386521],\n",
       "        [ 0.        ,  0.        , -0.6047079 ]]))"
      ]
     },
     "execution_count": 378,
     "metadata": {},
     "output_type": "execute_result"
    }
   ],
   "source": [
    "np.linalg.qr(a) # qr factorization"
   ]
  },
  {
   "cell_type": "code",
   "execution_count": 379,
   "metadata": {},
   "outputs": [
    {
     "data": {
      "text/plain": [
       "array([[ 12.0+0.j       ,  -3.0+0.j       ,  -3.0+0.j       ],\n",
       "       [ 16.0+0.j       ,   2.5+0.8660254j,   2.5-0.8660254j],\n",
       "       [  9.0+0.j       ,   3.0+0.j       ,   3.0+0.j       ]])"
      ]
     },
     "execution_count": 379,
     "metadata": {},
     "output_type": "execute_result"
    }
   ],
   "source": [
    "np.fft.fft(a) # one-dimensional discrete Fourier Transform"
   ]
  },
  {
   "cell_type": "code",
   "execution_count": 380,
   "metadata": {},
   "outputs": [
    {
     "data": {
      "text/plain": [
       "array([[ 4.00000000+0.j        , -1.00000000+0.j        , -1.00000000+0.j        ],\n",
       "       [ 5.33333333+0.j        ,  0.83333333-0.28867513j,\n",
       "         0.83333333+0.28867513j],\n",
       "       [ 3.00000000+0.j        ,  1.00000000+0.j        ,  1.00000000+0.j        ]])"
      ]
     },
     "execution_count": 380,
     "metadata": {},
     "output_type": "execute_result"
    }
   ],
   "source": [
    "np.fft.ifft(a) # one-dimensional inverse discrete Fourier Transform"
   ]
  },
  {
   "cell_type": "code",
   "execution_count": 381,
   "metadata": {},
   "outputs": [
    {
     "name": "stdout",
     "output_type": "stream",
     "text": [
      "[[6 7 2 6 4 9]\n",
      " [7 1 0 5 1 7]\n",
      " [0 9 1 0 9 4]\n",
      " [3 6 5 6 9 1]\n",
      " [5 3 3 5 6 1]\n",
      " [2 7 5 9 1 3]]\n",
      "[[2 4 6 6 7 9]\n",
      " [0 1 1 5 7 7]\n",
      " [0 0 1 4 9 9]\n",
      " [1 3 5 6 6 9]\n",
      " [1 3 3 5 5 6]\n",
      " [1 2 3 5 7 9]]\n"
     ]
    }
   ],
   "source": [
    "a = np.random.randint(0,10,(6,6))\n",
    "print(a)\n",
    "print(np.sort(a)) # or a.sort()"
   ]
  },
  {
   "cell_type": "code",
   "execution_count": 382,
   "metadata": {
    "scrolled": true
   },
   "outputs": [
    {
     "name": "stdout",
     "output_type": "stream",
     "text": [
      "[[6 7 2 6 4 9]\n",
      " [7 1 0 5 1 7]\n",
      " [0 9 1 0 9 4]\n",
      " [3 6 5 6 9 1]\n",
      " [5 3 3 5 6 1]\n",
      " [2 7 5 9 1 3]]\n"
     ]
    },
    {
     "data": {
      "text/plain": [
       "array([[0, 9, 1, 0, 9, 4],\n",
       "       [2, 7, 5, 9, 1, 3],\n",
       "       [3, 6, 5, 6, 9, 1],\n",
       "       [5, 3, 3, 5, 6, 1],\n",
       "       [6, 7, 2, 6, 4, 9],\n",
       "       [7, 1, 0, 5, 1, 7]])"
      ]
     },
     "execution_count": 382,
     "metadata": {},
     "output_type": "execute_result"
    }
   ],
   "source": [
    "print(a)\n",
    "# print(a[:,0])\n",
    "# print(np.argsort(a[:,0]))\n",
    "a[np.argsort(a[:,0])]"
   ]
  },
  {
   "cell_type": "markdown",
   "metadata": {},
   "source": [
    "## Scipy"
   ]
  },
  {
   "cell_type": "markdown",
   "metadata": {},
   "source": [
    "* The SciPy library depends on NumPy\n",
    "* gathers a variety of high level science and engineering modules together:\n",
    " * **Fftpack** discrete fourier transform algorithms Integrate integration routines\n",
    " * **Interpolate** interpolation tools Linalg linear algebra routines\n",
    " * **Optimize** optimization tools Signal signal processing tools\n",
    " * **Sparse** sparse matrices Stats statistical functions\n",
    " * **Io** data input and output\n",
    " * Special definitions of many usual math functions\n",
    " * Weave C/C++ integration"
   ]
  },
  {
   "cell_type": "markdown",
   "metadata": {},
   "source": [
    "* scipy.signal - signal processing tools\n",
    " * Convolution\n",
    " * B-splines\n",
    " * Filtering\n",
    " * Filter design\n",
    " * Matlab-style IIR filter design Linear Systems\n",
    " * LTI Reresentations Waveforms\n",
    " * Window functions Wavelets"
   ]
  },
  {
   "cell_type": "markdown",
   "metadata": {},
   "source": [
    "## Matplotlib/Pylab"
   ]
  },
  {
   "cell_type": "markdown",
   "metadata": {},
   "source": [
    "* Matplotlib is a object oriented plotting library.\n",
    "* Pylab is the interface on top of Matplotlib emulating MATLAB functions.\n",
    "* You can use latex expressions to add math to your plot.\n",
    "* check matplotlib website"
   ]
  },
  {
   "cell_type": "code",
   "execution_count": 28,
   "metadata": {},
   "outputs": [
    {
     "data": {
      "text/plain": [
       "<matplotlib.image.AxesImage at 0x114523240>"
      ]
     },
     "execution_count": 28,
     "metadata": {},
     "output_type": "execute_result"
    },
    {
     "data": {
      "image/png": "[encoded data removed]",
      "text/plain": [
       "<Figure size 288x288 with 1 Axes>"
      ]
     },
     "metadata": {},
     "output_type": "display_data"
    }
   ],
   "source": [
    "a = np.diag(np.arange(10))\n",
    "plt.matshow(a)"
   ]
  },
  {
   "cell_type": "code",
   "execution_count": 29,
   "metadata": {},
   "outputs": [
    {
     "data": {
      "text/plain": [
       "<matplotlib.image.AxesImage at 0x114574ba8>"
      ]
     },
     "execution_count": 29,
     "metadata": {},
     "output_type": "execute_result"
    },
    {
     "data": {
      "image/png": "[encoded data removed]",
      "text/plain": [
       "<Figure size 288x288 with 1 Axes>"
      ]
     },
     "metadata": {},
     "output_type": "display_data"
    }
   ],
   "source": [
    "a = np.random.randint(0,50,(25,25))\n",
    "plt.matshow(a)"
   ]
  },
  {
   "cell_type": "code",
   "execution_count": 30,
   "metadata": {},
   "outputs": [],
   "source": [
    "%matplotlib inline"
   ]
  },
  {
   "cell_type": "code",
   "execution_count": 31,
   "metadata": {},
   "outputs": [
    {
     "data": {
      "text/plain": [
       "[<mpl_toolkits.mplot3d.art3d.Line3D at 0x11460e160>]"
      ]
     },
     "execution_count": 31,
     "metadata": {},
     "output_type": "execute_result"
    },
    {
     "data": {
      "image/png": "[encoded data removed]",
      "text/plain": [
       "<Figure size 432x288 with 1 Axes>"
      ]
     },
     "metadata": {},
     "output_type": "display_data"
    }
   ],
   "source": [
    "from mpl_toolkits.mplot3d import Axes3D\n",
    "\n",
    "fig = plt.figure()\n",
    "ax = fig.add_subplot(111, projection='3d')\n",
    "\n",
    "a = np.linspace(1,20,500)\n",
    "\n",
    "xs = np.sin(a)*np.sqrt(a)\n",
    "ys = np.cos(a)*-a**2\n",
    "zs = a\n",
    "\n",
    "ax.plot(xs,ys,zs)"
   ]
  },
  {
   "cell_type": "code",
   "execution_count": 39,
   "metadata": {},
   "outputs": [
    {
     "name": "stdout",
     "output_type": "stream",
     "text": [
      "Using matplotlib backend: MacOSX\n"
     ]
    }
   ],
   "source": [
    "%matplotlib"
   ]
  },
  {
   "cell_type": "code",
   "execution_count": 44,
   "metadata": {},
   "outputs": [],
   "source": [
    "from mpl_toolkits.mplot3d import Axes3D\n",
    "\n",
    "fig = plt.figure()\n",
    "ax = fig.add_subplot(111, projection='3d')\n",
    "\n",
    "a = np.linspace(1,20,500)\n",
    "\n",
    "xs = np.sin(a)*np.sqrt(a)\n",
    "ys = np.cos(a)*-a**2\n",
    "zs = a\n",
    "\n",
    "ax.plot(xs,ys,zs);"
   ]
  },
  {
   "cell_type": "code",
   "execution_count": null,
   "metadata": {},
   "outputs": [],
   "source": []
  }
 ],
 "metadata": {
  "hide_input": false,
  "kernelspec": {
   "display_name": "Python 3",
   "language": "python",
   "name": "python3"
  },
  "language_info": {
   "codemirror_mode": {
    "name": "ipython",
    "version": 3
   },
   "file_extension": ".py",
   "mimetype": "text/x-python",
   "name": "python",
   "nbconvert_exporter": "python",
   "pygments_lexer": "ipython3",
   "version": "3.6.5"
  }
 },
 "nbformat": 4,
 "nbformat_minor": 1
}
