{
 "cells": [
  {
   "cell_type": "markdown",
   "metadata": {},
   "source": [
    "<table style=\"width:100%; border:0\" cellspacing=\"0\" cellpadding=\"0\" border=\"0\" align=\"left|left|right\">\n",
    "  <tr style=\"border:0\">\n",
    "  <td style=\"border: 0; font-size:30px\" rowspan=\"3\"><b>Universität Bielefeld</b></td>\n",
    "    <td style=\"border: 0\">CITEC / Faculty of Technology</td>\n",
    "    <td style=\"border: 0\">Sekretariat: S. Strunk</td>\n",
    "  </tr>\n",
    "  <tr style=\"border:0\">\n",
    "    <td style=\"border: 0\">Ambient Intelligence Group</td>\n",
    "    <td style=\"border: 0\" align=\"right\">O\u001e",
    "ffice: CITEC-3.311</td>\n",
    "  </tr>\n",
    "  <tr style=\"border:0\">\n",
    "    <td style=\"border: 0\">Dr. Thomas Hermann</td>\n",
    "    <td style=\"border: 0\">106-6891</td>\n",
    "  </tr>\n",
    "</table>"
   ]
  },
  {
   "cell_type": "markdown",
   "metadata": {},
   "source": [
    "#### <center>Exercises of the lecture \"Introduction to Data Mining\"</center><br/> <center>winter term 2018/2019 Excercise sheet 5 </center>"
   ]
  },
  {
   "cell_type": "markdown",
   "metadata": {},
   "source": [
    "# <center>- Principal curves and principal surfaces -</center>"
   ]
  },
  {
   "cell_type": "markdown",
   "metadata": {},
   "source": [
    "### Problem 5.1, Principal curves"
   ]
  },
  {
   "cell_type": "markdown",
   "metadata": {},
   "source": [
    "In the file <tt>polynom.dat</tt> in the e-Learning space (Lernraum) of the ekVV you can find a list of pairs of numbers. Each pair represents a point in $\\mathbb{R}^2$. \n",
    "\n",
    "Let $\\vec{f}(y)$ be a curve, whose two components are polynomials.\n",
    "\\begin{equation}\n",
    "    \\vec{f}:\\mathbb{R} \\rightarrow \\mathbb{R}^2\\\\\n",
    "    \\vec{f}(y) = \\left( \\begin{array}{c} f_1(y)\\\\ f_2(y)\\\\ \\end{array}\\right), \\quad f_j(y) = \\sum\\limits_{i=0}^3 a_{ij}y^i\\\\\n",
    "\\end{equation}\n",
    "with\n",
    "\\begin{equation}\n",
    "    a_{ij} \\in \\mathbb{R}.\n",
    "\\end{equation}"
   ]
  },
  {
   "cell_type": "markdown",
   "metadata": {
    "collapsed": true
   },
   "source": [
    "Learn a principal curve that is fit a polynomial to the data set. For this, optimize the $a_{ij}$ with regard to the cost function \n",
    "\\begin{equation}\n",
    "    E = \\left< \\min_y \\Vert \\vec{x} - \\vec{f}(y) \\Vert^2 \\right>_{\\{\\vec{x}\\}}.\n",
    "\\end{equation}\n",
    "Initialize the $a_{ij}$ randomly and use stochastical exploration (informally spoken: Shake each $a_{ij}$ a little and if this reduces the cost, keep the jittered $a_{ij}$) to gradually converge to the optimum. What coefficients yield an optimal curve? Visualize the resulting curve together with the data set."
   ]
  },
  {
   "cell_type": "code",
   "execution_count": null,
   "metadata": {
    "collapsed": true
   },
   "outputs": [],
   "source": []
  },
  {
   "cell_type": "markdown",
   "metadata": {},
   "source": [
    "### Problem 5.2, Mean value as Optimum of a cost function"
   ]
  },
  {
   "cell_type": "markdown",
   "metadata": {},
   "source": [
    "In the lecture we have learned that the centroid (i.e. mean) vector minimizes the squared distance to all data points. Discuss the following cost functions qualitatively! How do they differ from the quadratic cost function for example in regard to outliers?"
   ]
  },
  {
   "cell_type": "markdown",
   "metadata": {
    "collapsed": true
   },
   "source": [
    "\\begin{equation}\n",
    "    E(\\vec{w}) = \\sum\\limits_{\\alpha = 1}^N f(\\Vert \\vec{x}^\\alpha - \\vec{w}\\Vert)\n",
    "\\end{equation}"
   ]
  },
  {
   "cell_type": "markdown",
   "metadata": {},
   "source": [
    "* (a) with $f(r) = r^4$\n",
    "* (b) with $f(r) = r$\n",
    "* (c) with $f(r) = r^4 - r^2$\n",
    "* (d) with $f(r) = 1-\\exp \\left(-\\frac{r^2}{\\sigma} \\right)$"
   ]
  },
  {
   "cell_type": "markdown",
   "metadata": {},
   "source": [
    "<table style=\"width:100%; border:0;font-size:10px\" cellspacing=\"0\" cellpadding=\"0\" border=\"0\" align=\"left|left|right\">\n",
    "  <tr style=\"border:0\">\n",
    "    <td style=\"border: 0\">Thomas Hermann (thermann@techfak)</td>\n",
    "    <td style=\"border: 0\">Lecture Wed 12-14, CITEC lecture hall</td>\n",
    "    <td style=\"border: 0\">office building</td>\n",
    "    <td style=\"border: 0\">public transportation</td>\n",
    "  </tr>\n",
    "  <tr style=\"border:0\">\n",
    "    <td style=\"border: 0\">Ferdinand Schlatt (fschlatt@techfak)</td>\n",
    "    <td style=\"border: 0\">Tutorial Tue 12:15-13:45, H14</td>\n",
    "    <td style=\"border: 0\">Universität Bielefeld</td>\n",
    "    <td style=\"border: 0\">light rail 4</td>\n",
    "  </tr>\n",
    "  <tr style=\"border:0\">\n",
    "    <td style=\"border: 0\"></td>\n",
    "    <td style=\"border: 0\"></td>\n",
    "    <td style=\"border: 0\">Universitätsstraße 25</td>\n",
    "    <td style=\"border: 0\">from Bahnhof and Jahnplatz</td>\n",
    "  </tr>\n",
    "  <tr style=\"border:0\">\n",
    "    <td style=\"border: 0\"></td>\n",
    "    <td style=\"border: 0\"></td>\n",
    "    <td style=\"border: 0\">33615 Bielefeld</td>\n",
    "    <td style=\"border: 0\"></td>\n",
    "  </tr>\n",
    "</table>"
   ]
  },
  {
   "cell_type": "code",
   "execution_count": null,
   "metadata": {
    "collapsed": true
   },
   "outputs": [],
   "source": []
  }
 ],
 "metadata": {
  "kernelspec": {
   "display_name": "Python 3",
   "language": "python",
   "name": "python3"
  },
  "language_info": {
   "codemirror_mode": {
    "name": "ipython",
    "version": 3
   },
   "file_extension": ".py",
   "mimetype": "text/x-python",
   "name": "python",
   "nbconvert_exporter": "python",
   "pygments_lexer": "ipython3",
   "version": "3.6.3"
  }
 },
 "nbformat": 4,
 "nbformat_minor": 1
}
