{
 "cells": [
  {
   "cell_type": "code",
   "execution_count": 1,
   "metadata": {
    "code_folding": []
   },
   "outputs": [],
   "source": [
    "## settings \n",
    "import numpy as np\n",
    "import matplotlib.pylab as plt\n",
    "import scipy, scipy.stats\n",
    "from ipywidgets import interact, interactive, fixed\n",
    "import ipywidgets as widgets\n",
    "%matplotlib inline\n",
    "plt.rcParams['figure.figsize'] = (8.0, 4.0)"
   ]
  },
  {
   "cell_type": "markdown",
   "metadata": {},
   "source": [
    "$\\usepackage{amssymb} \\newcommand{\\R}{\\mathbb{R}} \\newcommand{\\vx}{\\vec{x}} \\newcommand{\\vw}{\\vec{w}}$"
   ]
  },
  {
   "cell_type": "markdown",
   "metadata": {},
   "source": [
    "## 3.6 PCA via Singular Value Decomposition (SVD)"
   ]
  },
  {
   "cell_type": "markdown",
   "metadata": {},
   "source": [
    "_Singular Value Decomposition_ (SVD) allows an efficient computation of the PCA, so to say: PCA in a single execution step.\n",
    "\n",
    "The SVD of a $N \\times d$ matrix $X$ finds the decomposition into a product of three matrices \n",
    "$$\n",
    "  X = V S U^\\tau~,\n",
    "$$\n",
    "<img src=\"images/SVD-matrices.png\" witdh=\"50%\">\n",
    "where\n",
    "\\begin{eqnarray}\n",
    "U & = & d \\times d\\text{-orthogonal matrix}\\\\\n",
    "S & = & \\text{diag}(s_1,\\ldots,s_d)~\\text{diagonal matrix of singualar values of}~X\\\\\n",
    "V & = & \\text{Matrix of}~d~\\text{pairwise orthonormal columns} \\in\\R^N\n",
    "\\end{eqnarray}\n",
    "\n",
    "For the PCA we here take as input the **centered** data matrix \n",
    "$X = (\\vec{x}^1,\\ldots, \\vec{x}^\\alpha)^\\tau$\n",
    "and interprete the decomposition as follows:\n",
    "\n",
    "1. The columns $\\hat u_i$ of $U$ are the eigenvectors of the covariance matrix $\\hat C$ of the data\n",
    " * because\n",
    "$$\n",
    "\t(N-1)\\hat C = \\sum\\limits_{\\alpha=1}^N \\vec{x}^\\alpha\\vec{x}^{\\alpha\\tau} \n",
    "\t= X^\\tau X = US\\underbrace{V^\\tau V}_{I_d}SU^\\tau = US^2U^\\tau\n",
    "$$\n",
    " * Since $\\hat C$ has the eigenvalue decomposition $\\hat C = U \\hat DU^\\tau$, it is immediately obvious that in addition it is $\\lambda_i = s_i^2/(N-1)$.\n",
    " * Note: if the mean is not estimated from the data, we can use $N$ instead of $N-1$.\n",
    "2. The $k$th column of matrix $V\\cdot S$ contains the projection indices for the $k$th principal component \n",
    "$$\n",
    "y_k^\\alpha = \\hat u_k^\\tau \\vec{x}^\\alpha = \\vec{x}^{\\alpha \\tau} \\hat u_k = V_{\\alpha k}S_{kk} \n",
    "$$\n",
    " * Reordering the SVD-equation gives $XU = VS$ and thus directly the above statement. "
   ]
  },
  {
   "cell_type": "code",
   "execution_count": 12,
   "metadata": {},
   "outputs": [
    {
     "data": {
      "image/png": "[encoded data removed]",
      "text/plain": [
       "<Figure size 576x288 with 1 Axes>"
      ]
     },
     "metadata": {},
     "output_type": "display_data"
    }
   ],
   "source": [
    "# create mean-centered data\n",
    "N, dim = 20, 3\n",
    "data = np.random.randn(N, dim)\n",
    "data = data - np.mean(data, 0)\n",
    "plt.plot(data[:,0], data[:,1], 'o'); plt.axis('equal');"
   ]
  },
  {
   "cell_type": "code",
   "execution_count": 18,
   "metadata": {},
   "outputs": [
    {
     "name": "stdout",
     "output_type": "stream",
     "text": [
      "singualar values [ 3.6657852   4.50154667  5.02182538]\n"
     ]
    }
   ],
   "source": [
    "# compute SVD\n",
    "u, s, vh = np.linalg.svd(data, full_matrices=False)\n",
    "print(\"singualar values\", np.sort(s))"
   ]
  },
  {
   "cell_type": "code",
   "execution_count": 19,
   "metadata": {},
   "outputs": [
    {
     "name": "stdout",
     "output_type": "stream",
     "text": [
      "eigenvalues: [ 0.70726216  1.06652223  1.32730159]\n"
     ]
    }
   ],
   "source": [
    "# compute eigenvalues via C and diag\n",
    "C = np.cov(data.T)\n",
    "eigvals, eigvecs = np.linalg.eig(C)\n",
    "print(\"eigenvalues:\", np.sort(eigvals))"
   ]
  },
  {
   "cell_type": "code",
   "execution_count": 26,
   "metadata": {},
   "outputs": [
    {
     "name": "stdout",
     "output_type": "stream",
     "text": [
      "difference is approx. 0: [ -3.33066907e-16  -2.22044605e-16   4.44089210e-16]\n"
     ]
    }
   ],
   "source": [
    "# check difference with the 1/(N-1) normalization\n",
    "print(\"difference is approx. 0:\", np.sort(eigvals) - np.sort(s)**2/(N-1))"
   ]
  }
 ],
 "metadata": {
  "hide_input": false,
  "kernelspec": {
   "display_name": "Python 3",
   "language": "python",
   "name": "python3"
  },
  "language_info": {
   "codemirror_mode": {
    "name": "ipython",
    "version": 3
   },
   "file_extension": ".py",
   "mimetype": "text/x-python",
   "name": "python",
   "nbconvert_exporter": "python",
   "pygments_lexer": "ipython3",
   "version": "3.6.3"
  }
 },
 "nbformat": 4,
 "nbformat_minor": 1
}
