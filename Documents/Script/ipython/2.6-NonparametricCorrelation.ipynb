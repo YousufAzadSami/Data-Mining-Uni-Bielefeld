{
 "cells": [
  {
   "cell_type": "code",
   "execution_count": 1,
   "metadata": {},
   "outputs": [
    {
     "name": "stdout",
     "output_type": "stream",
     "text": [
      "Populating the interactive namespace from numpy and matplotlib\n"
     ]
    }
   ],
   "source": [
    "%pylab inline\n",
    "import scipy, scipy.stats\n",
    "pylab.rcParams['figure.figsize'] = (8.0, 4.0)\n",
    "# from IPython.html.widgets import interact, fixed\n",
    "# import ipywidgets\n",
    "from __future__ import print_function"
   ]
  },
  {
   "cell_type": "markdown",
   "metadata": {},
   "source": [
    "## 2.6. Nonparametric Correlation\n",
    "\n",
    "Basic Idea: \n",
    "* Instead of using the values $x_i$\n",
    "* use the rank place $r_i$ of $x_i$ \n",
    "* in a sorted series $x_{r_1} \\le x_{r_2}\\le \\ldots \\le x_{r_N}$"
   ]
  },
  {
   "cell_type": "markdown",
   "metadata": {},
   "source": [
    "** Example **\n",
    "\n",
    "| i\t| \tx \t|\ty\t|\tr\t|\ts  |\n",
    "|---|:------|:------|:------|:-----|\n",
    "|1\t|\t3.1\t|\t2.2\t|\t3\t|\t2  |\n",
    "|2\t|\t1.1\t|\t1.2\t|\t1\t| \t1  |\n",
    "|3\t|\t2\t|\t3\t|\t2\t|\t4  |\n",
    "|4\t|\t4.5\t|\t4\t|\t5\t|\t5  |\n",
    "|5\t|\t4\t|\t2.5\t|\t4\t|\t3  |"
   ]
  },
  {
   "cell_type": "code",
   "execution_count": 2,
   "metadata": {},
   "outputs": [
    {
     "name": "stdout",
     "output_type": "stream",
     "text": [
      "[2 1 5 3 4]\n"
     ]
    },
    {
     "data": {
      "image/png": "[encoded data removed]",
      "text/plain": [
       "<Figure size 576x288 with 1 Axes>"
      ]
     },
     "metadata": {},
     "output_type": "display_data"
    }
   ],
   "source": [
    "x = array([[3.1, 2.2], [1.1,1.2], [2,3], [4.5,4], [4,2.5]])\n",
    "plot(x[:,0], x[:,1], \"o\", markersize=8)\n",
    "[text(el[0]+0.1,el[1], \"%s\" %(i+1), fontsize=16) for i, el in enumerate(x)]\n",
    "axis([0,8,0,6]); xlabel(\"x\"); ylabel(\"y\"); grid(True); gca().set_aspect('equal')\n",
    "x[:,1]\n",
    "ios = x[:,1].argsort() # this is not s[i]. This is i[s]!!!\n",
    "print(ios+1)"
   ]
  },
  {
   "cell_type": "markdown",
   "metadata": {},
   "source": [
    "$\\bar{r} = \\bar{s} = 3, r_{sp} = \\frac{0+4+(-1)+4}{10}= \\frac{7}{10}$"
   ]
  },
  {
   "cell_type": "markdown",
   "metadata": {},
   "source": [
    "** Motivation: **\n",
    "\n",
    "* more generally applicable\n",
    "* robustness: more robust against measurement errors\n",
    "* better statistical interpretation\n",
    "\n",
    "What do we do if $x_i=x_j$?\n",
    "* these are called 'ties'\n",
    "* jitter $x_i, x_j$, i.e. add a small random number\n",
    "* this results in different rankings $k$ and $k+1$.\n",
    "* assign to both data points the mean rank $k+1/2$\n",
    "* apply the analogue procedure for $q>2$ equal values.\n",
    "\n",
    "Ranks offer better statistical means of interpretation, because the distribution of ranks is better specified: typically it is a uniform distribution from 1 to $N$."
   ]
  },
  {
   "cell_type": "markdown",
   "metadata": {},
   "source": [
    "### 2.6.2. Spearman's Rank Correlation Coefficient \n",
    "\n",
    "Let $\\{r_i\\},\\{s_i\\}$ be the ranks of $\\{x_i\\},\\{y_i\\}, i=1,\\dots, N$.\n",
    "Then the Spearman Rank Correlation Coefficient is defined as  \n",
    "$$\tr_{\\text{SP}} = \\frac{\\sum\\limits_i (r_i-\\bar{r})(s_i - \\bar{s})}\n",
    "\t\t{\\sqrt{\\sum\\limits_i (r_i - \\bar{r})^2}\\cdot \\sqrt{\\sum\\limits_i (s_i - \\bar{s})^2}}$$\n",
    "* note the similiarity to the definition of the linear correlation coefficient $r$ \n",
    "\n",
    "** Statistical Test:** \n",
    "* The null hypothesis $H_0$: $x$ and $y$ are linearly uncorrelated\n",
    "* Statistic:\n",
    "$$\tt=r_{\\text{SP}}\\sqrt{\\frac{N-2}{1-r_{\\text{SP}}^2}} $$\n",
    "* Distribution of $t$ under valid $H_0$ = Student-$t$ distribution with $\\nu=N-2$ degrees of freedom\n",
    "* This is independent of the actual distributions of $x$ and $y$\n",
    "\n",
    "** Alternative Correlation Measures **\n",
    "\n",
    "$$ \tD=\\sum\\limits_{i=1}^N (r_i - s_i)^2 $$\n",
    "* Sum of the squared rank deviations\n",
    "* is 0, if the rank places are equally sorted in both features\n",
    "\n",
    "If there are no ties, the following connection with $r_{\\text{\\tiny SP}}$ can be found:\n",
    "$$\tr_{SP}= 1 - \\frac{6D}{N^3-N} $$\n",
    "\n",
    "There is no direct test for $D$: assuming true $H_0$, $D$ is approximately normally distributed \n",
    "* with mean $\\bar{D} \\approx \\frac{1}{6}(N^3-N)$ \n",
    "* and variance $\\displaystyle\\text{Var}(D) \\approx \\frac{(N-1)N^2(N+1)^2}{36}$\n",
    "\n",
    "* different than in previous tests here the statistics can also be smaller than a critical level for the null hypothesis to be rejectable.\n",
    "* if a $D_{crit}$ is surpassed, the features $x$ and $y$ are anticorrelated, i.e. $x$ increases while $y$ decreases.\n",
    "\n",
    "<img src=\"images/NonParametricKorr-D-Test.png\" width=\"40%\">"
   ]
  },
  {
   "cell_type": "markdown",
   "metadata": {},
   "source": [
    "### 2.6.3. Kendall's $\\tau$\n",
    "\n",
    "Instead of using ranks, here we have an even more coarse reduction:\n",
    "* higher rank\n",
    "* equal rank\n",
    "* lower rank\n",
    "\n",
    "The advantage is, that no sorting is required\n",
    "* since ranks are monotonous with feature values, $r_i < r_j$ is identical to $x_i < x_j$.\n",
    "\n",
    "Point of departure:\n",
    "* $N$ data points (paired features) $(x_i, y_i)$\n",
    "\n",
    "<img src=\"images/Kendall-tau-Diagram.png\" width=\"50%\">"
   ]
  },
  {
   "cell_type": "markdown",
   "metadata": {},
   "source": [
    "Regard all $\\frac{1}{2}N(N-1)$ pairs $(i,j)$ and count the following for quantities:\n",
    "\n",
    "| name | definition | meaning |\n",
    "|:----------|:-----------------------------------------------|:-------------------|\n",
    "|**con**cordant\t\t| nr. of pairs with $(x_i-x_j)(y_i-y_j) >0$      | positive slope     |\n",
    "|**dis**cordant\t\t| nr. of pairs with $(x_i-x_j)(y_i-y_j) <0$      | negative slope     |\n",
    "|extra-x\t| nr. of pairs with $x_i\\not=x_j \\wedge y_i=y_j$ | horizontal         |\n",
    "|extra-y\t| nr. of pairs with $x_i=x_j \\wedge y_i\\not=y_j$ | vertical           |\n",
    "\n",
    "** Statistical Test:** \n",
    "* Null hypothesis $H_0$: $x$ and $y$ are uncorrelated\n",
    "* Statistics:\n",
    "\n",
    "$$\t\\tau= \\frac{\\text{con} - \\text{dis}}\n",
    "\t\t{\\sqrt{\\text{con + dis + extra-y}} \\cdot \\sqrt{\\text{con + dis + extra-x}}} \n",
    "$$\n",
    "* Note that $-1 \\leq \\tau \\leq 1$ and\n",
    "\n",
    " * $\\tau =1$  $\\Leftrightarrow$   only con $>0$  $\\Leftrightarrow$ $x,y$ have same order \n",
    " * $\\tau =-1$  $\\Leftrightarrow$   only dis $>0$  $\\Leftrightarrow$ $x,y$ have opposite order \n",
    "\n",
    "* ** Remark:** \n",
    " * double points (i.e. exactly identical coordinates) affect the counters nonetheless, so they cannot just be eliminated\n",
    " * as pair they count neither for extra-x nor extra-y.\n",
    "* Distribution of $\\tau$ under true $H_0$:\n",
    "$$ \\tau \\sim N \\left( \\mu = 0, \\sigma^2 = \\frac{4N+10}{9N(N+1)} \\right)$$\n",
    "* Note that $N(\\mu, \\sigma^2) =$ Normal distribution with mean $\\mu$ and variance $\\sigma^2$\n",
    "* The method is particularly suitable if there are very few alternative values. In this case \n",
    "$ r_{\\text{SP}}$ would be dominated by mean ranks.\n",
    "* Complexity: $o(N^2)$ while $r_{\\text{SP}}$ scales with $o(N \\log(N))$\n",
    " * so could be problematic with large data sets"
   ]
  },
  {
   "cell_type": "code",
   "execution_count": null,
   "metadata": {},
   "outputs": [],
   "source": []
  }
 ],
 "metadata": {
  "hide_input": false,
  "kernelspec": {
   "display_name": "Python 3",
   "language": "python",
   "name": "python3"
  },
  "language_info": {
   "codemirror_mode": {
    "name": "ipython",
    "version": 3
   },
   "file_extension": ".py",
   "mimetype": "text/x-python",
   "name": "python",
   "nbconvert_exporter": "python",
   "pygments_lexer": "ipython3",
   "version": "3.6.3"
  }
 },
 "nbformat": 4,
 "nbformat_minor": 1
}
