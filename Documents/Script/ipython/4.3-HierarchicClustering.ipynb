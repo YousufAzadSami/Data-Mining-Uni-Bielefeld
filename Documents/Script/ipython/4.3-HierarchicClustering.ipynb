{
 "cells": [
  {
   "cell_type": "code",
   "execution_count": 1,
   "metadata": {
    "code_folding": [
     0
    ]
   },
   "outputs": [],
   "source": [
    "## settings \n",
    "import numpy as np\n",
    "import matplotlib.pylab as plt\n",
    "import scipy, scipy.stats\n",
    "from ipywidgets import interact, interactive, fixed\n",
    "import ipywidgets as widgets\n",
    "%matplotlib inline\n",
    "plt.rcParams['figure.figsize'] = (8.0, 4.0)"
   ]
  },
  {
   "cell_type": "markdown",
   "metadata": {},
   "source": [
    "$\\usepackage{amssymb} \\newcommand{\\R}{\\mathbb{R}} \\newcommand{\\vx}{\\vec{x}} \\newcommand{\\vy}{\\vec{y}} \\newcommand{\\vw}{\\vec{w}}$"
   ]
  },
  {
   "cell_type": "markdown",
   "metadata": {},
   "source": [
    "##  4.3 Hierarchic Clustering"
   ]
  },
  {
   "cell_type": "markdown",
   "metadata": {},
   "source": [
    "Hierarchic Clustering leads to a treelike division of clusters.\n",
    "There are two opposite procedures:\n",
    "* divisive clustering: start with a single cluster that contains all data, stepwise division into smaller clusters (top-down)\n",
    "* agglomerative clustering: initialize all data points as 1-element clusters, stepwise merging of clusters (bottom-up)"
   ]
  },
  {
   "cell_type": "markdown",
   "metadata": {},
   "source": [
    "### 4.3.1 Agglomeratives Clustering"
   ]
  },
  {
   "cell_type": "markdown",
   "metadata": {},
   "source": [
    "1. Initialization: Regard data points as 1-element cluster $C_1,\\dots,C_n$.\n",
    "2. Find pair of clusters $C_i, C_j$ with \n",
    "$$\t(i^\\star, j^\\star) = \\arg\\min_{i<j} d(C_i, C_j) $$\n",
    "Set $\\tilde{d} = d(C_{i^\\star}, C_{j^\\star})$\n",
    "3. Replace $C_{i^\\star} \\leftarrow C_{i^\\star} \\cup C_{j^\\star}$\n",
    "4. If $j^\\star<n$: replace  $C_j^\\star \\leftarrow C_n$\n",
    "5. Set $n \\leftarrow n-1$\n",
    "6. If termination condition A($C_1,\\dots, C_n) = $false: ~~goto 2\n",
    "\n",
    "**termination conditions:**\n",
    "* number of clusters: $n\\le n_{\\text{goal}}$\n",
    "* error:      $\\sum\\limits_{i=1}^n \\text{Var}(C_i)>E_{goal}$\n",
    "* distance:        & $\\tilde{d} > d_{max}$\n",
    "\n",
    "\n",
    "Different clustering variants result according to the choice of the distance function in step 2 \n",
    "\n",
    "1. **Single Linkage Clustering (SLC)**\n",
    "$$\td(C_i,C_j) = d_1 (C_i,C_j)\n",
    "$$\n",
    " * SLC is inclined to form 'strings of clusters'\n",
    "2. **Complete Linkage Clustering (CLC)**\n",
    "$$\td(C_i,C_j) = d_2 (C_i,C_j) $$ \n",
    " * CLC has the tendency to result in compact sphere-shaped clusters"
   ]
  },
  {
   "cell_type": "markdown",
   "metadata": {},
   "source": [
    "#### Example\n",
    "Consider the data set: $D=\\{0,0.5,1.5,2.8,5\\}$\n",
    "\n",
    "<img src=\"images/CLC-SLC-example.png\" width=\"30%\">\n",
    "\n",
    "Clustering yields the following dendrograms:\n",
    "* Note that the x-coordinates of the plots do not match to the data point indices. sorting is always done so in dendrograms that neighbored items can be merged.\n",
    "\n",
    "CLC: <img src=\"images/clc.png\" width=\"50%\">\n",
    "SLC: <img src=\"images/slc.png\" width=\"50%\">"
   ]
  },
  {
   "cell_type": "markdown",
   "metadata": {},
   "source": [
    "#### 3. Average linkage clustering\n",
    "$$\n",
    "\td(C_i,C_j)=d_3(C_i,C_j)\n",
    "$$\n",
    "* well balanced, between CLC and SLC\n",
    "\n",
    "#### 4. Centroid Linkage Clustering\n",
    "$$\n",
    "\td(C_i,C_j)=d_4(C_i,C_j)\n",
    "$$\n",
    "* Each cluster is represented by the mean of its center vectors\n",
    "* The computation of means requires real-valued variables\n",
    "* Attention: When merging two clusters, the center-of-mass of the resulting cluster is dominated by the bigger cluster\n",
    "\n",
    "#### 5. Ward's Linkage Clustering\n",
    "\n",
    "Here, an optimality criterion is used:\n",
    "* with each step that pair of clusters $C_i,C_j$ is merged that increases the mean standard deviation\n",
    "$$\n",
    "E=\\frac{1}{N}\\sum_i \\sum_{\\vx \\in C_i} (\\vx - \\hat\\mu_i)^2\n",
    "$$\n",
    "of data around the cluster centers $\\hat{\\mu}_i = \\langle\\vx\\rangle_{C_i}$ the least.\n",
    "* this favors the formation of spherical clusters."
   ]
  },
  {
   "cell_type": "markdown",
   "metadata": {},
   "source": [
    "### 4.3.2. Recursive Distance Measures"
   ]
  },
  {
   "cell_type": "markdown",
   "metadata": {},
   "source": [
    "All methods described before can be derived from a recursively defined distance measure:\n",
    "$$\n",
    "\td_{k,(i,j)}=\\alpha_i d_{ki}+\\alpha_j d_{kj}+\\beta d_{ij}+\\gamma|d_{ki}-d_{kj}|\n",
    "$$\n",
    "\n",
    "<img src=\"images/rekursiv.png\" width=\"20%\">\n",
    "\n",
    "* Note that this Figure is a 90 degree rotated dendrogram, but the cluster distances $d(j,k)=d_{jk}$ and $d(i,k)=d_{ik}$ are not depicted. The red arrows highlight what distances are meant.\n",
    "\n",
    "According to the choice of parameters $\\alpha_i,\\alpha_j,\\beta$ and $ \\gamma$ we receive the above methods 1.-5., and further methods.\n",
    "\n",
    "$$\n",
    "\\begin{array}{c|c|c|c||l}\n",
    "\\alpha_i & \\alpha_j & \\beta & \\gamma & \\text{Method}\\\\ \\hline \n",
    "& & & & \\\\\n",
    "1/2        & 1/2        & 0 &  -1/2 & \\text{Single Linkage} \\\\  \n",
    "& & & & \\\\\n",
    "1/2        & 1/2        & 0 &  1/2 & \\text{Complete Linkage} \\\\ \n",
    "& & & & \\\\\n",
    "\\frac{n_i}{n_i+n_j}        & \\frac{n_j}{n_i+n_j} & 0 & 0 & \\text{Centroid linkage Clustering}\\\\  \n",
    "& & & & \\\\\n",
    " \\frac{n_i}{n_i+n_j}       & \\frac{n_j}{n_i+n_j} & -\\alpha_i \\alpha_j & 0 & \\text{Average linkage Clustering} \\\\ \n",
    "& & & & \\\\\n",
    "\\frac{n_i+n_j}{n_i+n_j+n_k} & \\frac{n_j+n_k}{n_i+n_j+n_k} &\n",
    "\t-\\frac{n_k}{n_i+n_j+n_k} & 0 & \\text{Ward's linkage Clustering}\\\\\n",
    "\\hline\n",
    "\\end{array}\n",
    "$$"
   ]
  }
 ],
 "metadata": {
  "kernelspec": {
   "display_name": "Python 3",
   "language": "python",
   "name": "python3"
  },
  "language_info": {
   "codemirror_mode": {
    "name": "ipython",
    "version": 3
   },
   "file_extension": ".py",
   "mimetype": "text/x-python",
   "name": "python",
   "nbconvert_exporter": "python",
   "pygments_lexer": "ipython3",
   "version": "3.6.3"
  }
 },
 "nbformat": 4,
 "nbformat_minor": 1
}
