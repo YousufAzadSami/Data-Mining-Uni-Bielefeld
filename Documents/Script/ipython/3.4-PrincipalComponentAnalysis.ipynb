{
 "cells": [
  {
   "cell_type": "code",
   "execution_count": 1,
   "metadata": {
    "code_folding": [
     0
    ]
   },
   "outputs": [],
   "source": [
    "# settings\n",
    "import numpy as np\n",
    "import matplotlib.pylab as plt\n",
    "import scipy, scipy.stats\n",
    "from ipywidgets import interact, interactive, fixed\n",
    "import ipywidgets as widgets\n",
    "%matplotlib inline\n",
    "plt.rcParams['figure.figsize'] = (8.0, 4.0)"
   ]
  },
  {
   "cell_type": "markdown",
   "metadata": {},
   "source": [
    "$\\usepackage{amssymb} \\newcommand{\\R}{\\mathbb{R}} \\newcommand{\\vx}{\\vec{x}}$"
   ]
  },
  {
   "cell_type": "markdown",
   "metadata": {},
   "source": [
    "## 3.4. Principal Component Analysis (PCA)\n",
    "\n",
    "* The PCA is a simple standard method for dimensionality reduction\n",
    "* Principal Idea: Determine a low-dimensional linear subspace that contains the largest share of the variance.\n",
    "\n",
    "<img src = \"images/projection.png\" width=\"30%\">\n",
    "\n",
    "**Given**: data set $ X = \\{\\vec{x}^\\alpha\\}_{\\alpha=1\\dots N}, \\vec{x}^\\alpha \\in \\R^d $\n",
    "Let w.l.o.g. the data be **centered**, i.e. all features are shifted/translated so that means are 0:\n",
    "$$\n",
    "\\frac{1}{N} \\sum\\limits_{\\alpha=1}^N \\vx^\\alpha = \\vec{0}\n",
    "$$\n",
    "\n",
    "**Approach**: Maximize the variance of the data after projection onto a vector $\\hat v$.\n",
    "\n",
    "* The estimated variance in the subspace along vector $\\hat v$ with  $\\|\\hat v\\| = 1$ is given by\n",
    "\n",
    "$$ F(\\hat v) = \\frac{1}{N} \\sum\\limits_{\\alpha=1}^N (\\vx^{\\alpha \\tau} \\hat v)^2 $$\n",
    "$$ = \\frac{1}{N} \\sum\\limits_{\\alpha=1}^N {\\hat v}^\\tau \\vx^\\alpha\\vx^{\\alpha \\tau} \\hat v$$\n",
    "$$ = {\\hat v}^\\tau \\underbrace{ \\left[ \\frac{1}{N} \\sum\\limits_{\\alpha=1}^N \\vx^\\alpha\\vx^{\\alpha \\tau}\\right] }_{\\text{estimated covariance matrix} C} \\hat v$$\n",
    "$$ = \\hat v^\\tau C \\hat v$$"
   ]
  },
  {
   "cell_type": "code",
   "execution_count": 7,
   "metadata": {
    "code_folding": [
     0
    ],
    "scrolled": true
   },
   "outputs": [
    {
     "data": {
      "application/vnd.jupyter.widget-view+json": {
       "model_id": "4ee474ef4fc249feaff9c35777d8cdc1",
       "version_major": 2,
       "version_minor": 0
      },
      "text/plain": [
       "interactive(children=(FloatSlider(value=0.1, description='alpha', max=3.141592653589793, step=0.05), Output())…"
      ]
     },
     "metadata": {},
     "output_type": "display_data"
    }
   ],
   "source": [
    "# projection plot\n",
    "R = np.random.randn(200, 2)*[5,1]\n",
    "a = -np.pi/180*40\n",
    "X = (np.matrix([[np.cos(a), np.sin(a)], [-np.sin(a), np.cos(a)]])*R.transpose()).transpose()\n",
    "\n",
    "def pltprj(alpha=0.1):\n",
    "    plt.subplot(121)\n",
    "    plt.plot(X[:,0], X[:,1], \".\")\n",
    "    vec = [np.cos(alpha), np.sin(alpha)]\n",
    "    plt.plot([-10*vec[0], 10*vec[0]], [-10*vec[1], 10*vec[1]], 'r', lw=2)\n",
    "    plt.axis('equal')\n",
    "    plt.subplot(122)\n",
    "    prj = np.zeros(np.shape(X))\n",
    "    prj[:,0] = np.dot(np.matrix(X), vec)\n",
    "    prj[:,1] = np.dot(np.matrix(X), [-np.sin(alpha), np.cos(alpha)])\n",
    "    # plt.plot(prj[:,0], prj[:,1], \".\")\n",
    "    plt.plot(prj[:,0], 0*prj[:,0], \".\")\n",
    "    plt.axis([-15, 15, -10, 10]);\n",
    "    # plt.axis('equal')\n",
    "\n",
    "interact(pltprj, alpha=(0, np.pi, 0.05));"
   ]
  },
  {
   "cell_type": "markdown",
   "metadata": {},
   "source": [
    "* $C$ is a positive semi-definite symmetric matrix. \n",
    "* Thus it exists a decomposition \n",
    "$$ C = UDU^\\tau$$ \n",
    "with \n",
    "* $U = [\\vec{u}_1,\\dots,\\vec{u}_d]$ being the matrix of eigenvectors of $C$ \n",
    "and \n",
    "* $D = \\text{diag}(\\lambda_1,\\dots,\\lambda_d):$ are the real-valued eigenvalues of $C$."
   ]
  },
  {
   "cell_type": "markdown",
   "metadata": {},
   "source": [
    "**Wanted**: \n",
    "$$\\sigma^2_{\\max} = \\max_{\\vec{w}} F(\\vec{w}) = \\max \\frac{\\vec{w}^\\tau C\\vec{w}}{\\vec{w}^\\tau \\vec{w}} $$"
   ]
  },
  {
   "cell_type": "markdown",
   "metadata": {},
   "source": [
    "**Method**: \n",
    "Determine the zero crossings of all partial derivatives of $F(\\vec{w})$\n",
    "$$\n",
    "\\nabla_{\\vec{w}}F = \\frac{2 C \\vec{w}}{\\vec{w}^\\tau \\vec{w}} - \\frac{\\vec{w}^\\tau C \\vec{w}}{(\\vec{w}^\\tau \\vec{w})^2} 2\\vec{w} = 0\n",
    "$$\n",
    "* Note that here the product rule $(uv)' = u'v + uv'$ has been applied\n",
    "\n",
    "* We can reshape the equation as\n",
    "$$\n",
    "C\\vec{w} = \\underbrace{\\left[ \\frac{\\vec{w}^\\tau C \\vec{w}}{\\vec{w}^\\tau \\vec{w}}  \\right]} \\vec{w} ~~~~~ \\left| ~~~~~\\text{then multiply eq. with}~~ \\cdot 1/\\|\\vec{w}\\|\\right.$$\n",
    "$$ C\\hat w ~~~~~ = ~~~~~ \\lambda ~~~~~~ \\hat w ~~~~~~~~~~~~~~~~~~~~~~~~~~~~$$\n",
    "\n",
    "* Yet this is just the eigenvalue condition!\n",
    "* The necessary condition of stationarity leads to solutions that are the eigenvectors\n",
    "* For that reason $F$ is maximized by the eigenvector belonging to the largest eigenvalue"
   ]
  },
  {
   "cell_type": "markdown",
   "metadata": {},
   "source": [
    "Usually we use a sorted order or eigenvalues: $\\lambda_1\\ge\\lambda_2\\ge\\dots\\lambda_d~(\\ge 0)$.\n",
    "\n",
    "Then we can simply write \n",
    "$$F_{\\max} = \\sigma^2_{\\max} = \\lambda_1$$\n",
    "\n",
    "With that, we can determine the first principal component of the data:\n",
    "\n",
    "$$ y_1^\\alpha = \\hat{u}_1^\\tau \\vx^\\alpha ~~~~~~~~~ \\text{(projection indices)} $$"
   ]
  },
  {
   "cell_type": "markdown",
   "metadata": {},
   "source": [
    "Transformation back into data space:\n",
    "$$ \\tilde{x}^\\alpha = \\hat{u}_1 y_1^\\alpha = \\underbrace{\\hat u_1 \\hat u_1^\\tau}_{\\text{Projektionsmatrix}}\\vx^\\alpha~\\text{(reconstruction)}$$\n",
    "\n",
    "Concerning the data compression \n",
    "* Coding using equation 'projection indices'\n",
    "* Decoding using equation 'reconstruction'\n",
    "\n",
    "The estimated variance along the first principal component is $\\sigma_1^2 = \\lambda_1$"
   ]
  },
  {
   "cell_type": "markdown",
   "metadata": {},
   "source": [
    "**Total variance of the data distribution:**\n",
    "\n",
    "\\begin{eqnarray}\n",
    "V & = & \\sum\\limits_{j=1}^d \\text{Var}(x_j) = \n",
    "\\frac{1}{N} \\sum\\limits_{\\alpha=1}^N \\vx^{\\alpha \\tau}\\vx^\\alpha ~~~ \\text{(since mean 0)}\\\\\n",
    "& = & \\frac{1}{N} \\sum_\\alpha \\text{trace}(\\vx^\\alpha \\vx^{\\alpha\\tau})\\\\\n",
    "& = & \\text{trace}\\left[ \\frac{1}{N} \\sum_\\alpha \\vx^\\alpha \\vx^{\\alpha\\tau}\\right]\\\\\n",
    "& = & \\text{trace}(C)\\\\\n",
    "\\end{eqnarray}"
   ]
  },
  {
   "cell_type": "markdown",
   "metadata": {},
   "source": [
    "But since $C=UDU^\\tau$ and $\\text{trace}(M) = \\text{trace}(U^\\tau MU) ~~ \\forall ~~ U$ orthonormal, it is \n",
    "$$\n",
    "V = \\text{trace}(D) = \\text{trace}(\\text{diag}(\\lambda_1,\\dots,\\lambda_d)) = \\sum_{i=1}^d \\lambda_i\n",
    "$$"
   ]
  },
  {
   "cell_type": "markdown",
   "metadata": {},
   "source": [
    "**Iterative application to perpendicular subspace**\n",
    "\n",
    "Now we search the 1-dimensional subspace which contains the largest fraction of the remaining variance $\\sum_{i=2}^d \\lambda_i$. \n",
    "\n",
    "The decomposition yields for the orthogonal part \n",
    "$$\n",
    "\\vx = \\vx^{(1)} + (\\vx - \\vx^{(1)}) = \\hat u_1 \\hat u_1^\\tau \\vx + \\underbrace{( I - \\hat u_1 \\hat u_1^\\tau )}_{\\text{projection matrix}} \\vx\n",
    "$$"
   ]
  },
  {
   "cell_type": "markdown",
   "metadata": {},
   "source": [
    "Now we maximize \n",
    "\\begin{eqnarray}\n",
    "F^{(2)}(v) & = & \\frac{1}{N} \\sum_\\alpha^N \\hat v^\\tau\\left[(I-\\hat u_1\\hat u_1^\\tau)\\vx^\\alpha\\right]\\left[(I-\\hat u_1\\hat u_1^\\tau)\\vx^\\alpha\\right]^\\tau \\hat v \\\\\n",
    "& = & \\frac{1}{N} \\sum_\\alpha^N \\hat v^\\tau (I-\\hat u_1\\hat u_1^\\tau)\\vx^\\alpha\\vx^{\\alpha\\tau} (I-\\hat u_1\\hat u_1^\\tau) \\hat v\\\\\n",
    "& = & \\hat v^\\tau (I-\\hat u_1\\hat u_1^\\tau) C (I-\\hat u_1\\hat u_1^\\tau) \\hat v \\\\\n",
    "& = & \\hat v^\\tau (  C -  \\hat u_1\\hat u_1^\\tau C - C \\hat u_1\\hat u_1^\\tau + \\hat u_1\\hat u_1^\\tau C \\hat u_1\\hat u_1^\\tau) \\hat v\\\\\n",
    "& = & \\hat v^\\tau (  C -  \\hat u_1\\lambda_1\\hat u_1^\\tau  - \\underbrace{\\lambda_1 \\hat u_1\\hat u_1^\\tau + \\hat u_1\\lambda_1\\hat u_1^\\tau}_{=0}) \\hat v \\\\\n",
    "& = & \\hat v^\\tau (  C -  \\lambda_1\\hat u_1\\hat u_1^\\tau) \\hat v \\\\\n",
    "& = & \\hat v^\\tau \\left[ UDU^\\tau - U \\text{diag}(\\lambda_1,0,0\\dots,0) U^\\tau\\right] \\hat v\\\\\n",
    "& = & \\hat v^\\tau \\left[ U \\text{diag}(0, \\lambda_2,\\lambda_3\\dots,\\lambda_d) U^\\tau\\right] \\hat v\\\\\n",
    "& = & \\hat v^\\tau \\tilde{C} \\hat v\\\\\n",
    "\\end{eqnarray}"
   ]
  },
  {
   "cell_type": "markdown",
   "metadata": {},
   "source": [
    "We see: \n",
    "* the solution is analog to finding the first principal component. The optimal vector now belongs to the largest eigenvalue of $\\tilde C$, and thus is $\\lambda_2$. \n",
    "\n",
    "* Thus $\\hat v_2 = \\hat u_2$ is the direction of the 2nd principal component with variance $\\sigma_2^2 = \\lambda_2$\n",
    "\n",
    "* In analogy, we obtain all further components as\n",
    "$$ \\hat v_j = \\hat u_j~,~ \\sigma_j^2 = \\lambda_j ~~ \\forall ~~ j = 1,\\ldots, d $$"
   ]
  },
  {
   "cell_type": "markdown",
   "metadata": {},
   "source": [
    "**Remarks**:\n",
    "* Principal components are uncorrelated!\n",
    "$$ \\text{corr}(y_j, y_k) = \\frac{1}{N} \\sum_\\alpha \\hat u_j^\\tau \\vx^\\alpha \\cdot  \\hat u_k^\\tau \\vx^\\alpha$$\n",
    "$$ = \\hat u_j^\\tau C \\hat u_k = \\lambda_k \\underbrace{\\hat u_j^\\tau \\hat u_k}_{=0~\\forall j \\not=  k}$$\n",
    "* The eigenvectors are pairwise orthogonal "
   ]
  },
  {
   "cell_type": "markdown",
   "metadata": {},
   "source": [
    "[ws17EOT20171206]"
   ]
  },
  {
   "cell_type": "markdown",
   "metadata": {},
   "source": [
    "**Summary (PCA, general case of uncentered data sets)**:\n",
    "\n",
    "1. Compute the estimated covariance matrix $\\hat{C}$ of the data set $X = \\{\\vx^\\alpha\\}_{\\alpha = 1, \\dots, N}$\n",
    "$$ \\hat C =\\frac{1}{N-1} \\sum\\limits_{\\alpha=1}^{N} (\\vx^\\alpha - \\bar x)( \\vx^\\alpha-\\bar x)^\\tau \\quad(\\text{symmetric}~~ d \\times d \\mbox{-matrix}) $$\n",
    "2. Compute the eigenvalues $\\lambda_j$ and eigenvectors $\\hat u_j$ of $\\hat C$: \n",
    "$$ \\hat{C} \\hat u_j=\\lambda_j\\hat u_j $$\n",
    "Since $\\hat C$ is symmetric, $\\hat u_i^\\tau \\hat u_j= \\delta_{ij}$ can always be achieved.  \n",
    "Then it holds:\n",
    "\n",
    "a. Each data vector $\\vec{x}^\\alpha$ can be decomposed into its Eigenvector decomposition\n",
    "$$ \n",
    "\t\\vx^\\alpha = \\bar x + \\sum\\limits_{j=1}^{d} y_j^\\alpha \\hat u_j~, ~~~~~~~ \\text{( eigenvalue decomposition )} \n",
    "$$\n",
    "where the coefficients $y_j^\\alpha$ are given by \n",
    "$$\n",
    "\ty^\\alpha_j = \\hat u_j^\\tau (\\vx^\\alpha-\\bar x) ~~~~~~~\\text{( projection indices )}$$ \n",
    "\n",
    "b. $y_j^\\alpha$ are centered (i.e. mean 0) and pairwise uncorrelated and the eigenvalues  $\\lambda_i$ are the variances of the component:\n",
    "$$\t\\frac{1}{N-1} \\sum\\limits_\\alpha y_i^\\alpha y_j^\\alpha = \\lambda_i \\delta_{ij} $$\n",
    "\n",
    "c. The matrix $\\hat C$ can be represented by \n",
    "$$ \\hat C = U \\hat D U^\\tau $$\n",
    "* where $U=(\\hat u_1, \\ldots, \\hat u_d)$ has the eigen vectors as columns,\n",
    "* and $\\hat D = \\text{diag}(\\lambda_1,\\ldots, \\lambda_d)$ is a diagonal matrix of the eigenvalues \n",
    "\n",
    "**Proof**:\n",
    "\n",
    "a) follows from inserting the definitions\n",
    "\n",
    "b) \n",
    "\\begin{eqnarray}\n",
    "\\frac{1}{N-1}              \\sum\\limits_\\alpha y_i^\\alpha y_j^\\alpha \n",
    "& = & \\frac{1}{N-1}   \\sum\\limits_\\alpha (\\hat u_i \\cdot (\\vx^\\alpha-\\bar x)) \\cdot (\\hat u_j \\cdot (\\vx^\\alpha-\\bar x)) \\\\\n",
    "& = & \\frac{1}{N-1}  \\sum\\limits_\\alpha \\hat u_i^\\tau ((\\vx^\\alpha-\\bar x)  (\\vx^{\\alpha}-\\bar x)^\\tau \\hat u_j \\\\\n",
    "& = & \\hat u_i^\\tau \\hat C  \\hat u_j \\\\\n",
    "& = & \\hat u_i^\\tau \\lambda_j  \\hat u_j \\\\\n",
    "& = & \\delta_{ij}  \\lambda_j \\\\\n",
    "\\end{eqnarray}\n",
    "\n",
    "c) is equivalent to $U^\\tau \\hat CU = \\text{diag}(\\lambda_1,\\ldots,\\lambda_d)$. \n",
    "* The $ij$ element of this equation is the last bit of the equation string of (b).\n",
    "\n",
    "**Interpretation**:\n",
    "* The eigenvector decomposition describes each data point (vector) by a new parameter vector $\\vec{y}^\\alpha=(y^\\alpha_1,\\ldots, y^\\alpha_d)$.\n",
    "\n",
    "* The $\\vec{y}^\\alpha$ are obtained by a linear transformation from the $\\vx^\\alpha$. However, the features are now pairwise uncorrelated. (yet not independent!!!)\n",
    "\n",
    "* The eigenvalues $\\lambda_j$ equal the variance of the respective component $y^\\alpha_j$."
   ]
  },
  {
   "cell_type": "markdown",
   "metadata": {},
   "source": [
    "**Relevance for Dimensionality reduction**:\n",
    "\n",
    "W.l.o.g. let all eigenvectors be enumerated so that the eigenvalues form a descending series:\n",
    "$$ \\lambda_1 \\geq \\lambda_2 \\geq \\dots \\geq \\lambda_d \\geq 0 $$\n",
    "\n",
    "Then stopping the decomposition after the $q$-th term yields:\n",
    "$$ \\tilde{\\vx}^\\alpha = \\bar x + \\sum\\limits_{j=1}^q y_j^\\alpha \\hat u_j $$ \n",
    "with approximation error \n",
    "$$ \\vec{\\delta}_\\alpha=  \\sum\\limits_{j=q+1}^d y_j^\\alpha \\hat u_j. $$\n",
    "Note that this is the smallest possible approximation error when using only $q$ components!\n",
    "\n",
    "The vector $\\tilde{\\vx}^\\alpha$ can be regarded as orthogonal projection of $\\vec{x}^\\alpha$ on the $q$-dimensional subspace $\\text{span}\\{\\hat u_j | j=1,\\ldots, q\\}$. \n",
    "\n",
    "The total variance $\\hat \\sigma^2$ of $\\vec{\\delta}_\\alpha$ over all data is\n",
    "\\begin{eqnarray}\n",
    "\\hat \\sigma^2 & = &  \\frac{1}{N-1} \\sum\\limits_\\alpha \\vec{\\delta}_\\alpha^2\\\\\n",
    "& = & \\frac{1}{N-1} \\sum\\limits_{i>q}\\sum\\limits_{\\alpha} \\hat u_i^T \\hat u_i(y_i^\\alpha)^2 \\\\\n",
    "& = & \\frac{1}{N-1} \\sum\\limits_{i>q}\\sum\\limits_{\\alpha} 1\\cdot (y_i^\\alpha)^2 \\\\\n",
    "& = & \\sum\\limits_{i>q}\\left(\\frac{1}{N-1}\\sum\\limits_{\\alpha} (y_i^\\alpha)^2\\right) \\\\\n",
    "& = & \\sum\\limits_{i>q} \\lambda_i \\\\\n",
    "\\end{eqnarray}\n",
    "\n",
    "* That means that the expected approximation error is equal to the sum of the eigenvalues belonging to the unused eigenvectors.\n",
    "\n",
    "* Using the $q$ largest eigenvalues (i.e. projection on  $\\text{span}\\{\\hat{v}_j ~~ | ~~ j=1,\\ldots,q\\}$) thus minimizes the mean squared error (MSE) among all linear projections onto a $q$-dimensional linear subspace (called _Karhunen-Loeve-expansion_)\n",
    "\n",
    "* Choice of $q$: best according to the eigenvalue distribution of $\\hat{C}$."
   ]
  },
  {
   "cell_type": "code",
   "execution_count": 10,
   "metadata": {},
   "outputs": [
    {
     "data": {
      "image/png": "[encoded data removed]",
      "text/plain": [
       "<Figure size 576x288 with 1 Axes>"
      ]
     },
     "metadata": {},
     "output_type": "display_data"
    }
   ],
   "source": [
    "lambdas = [1, 0.95, 0.9, 0.8, 0.2, 0.1, 0.05, 0.025, 0.0, 0.0]\n",
    "cdf = [np.sum(lambdas[:d]) for d in np.arange(len(lambdas))]\n",
    "ii = np.arange(len(lambdas))+1\n",
    "plt.stem(ii, lambdas, \"k-\")\n",
    "plt.plot([4.5, 4.5], [0,1], \"r-.\")\n",
    "plt.plot(ii, cdf/max(cdf), \"gx-\")\n",
    "plt.xlabel(\"component\"); plt.ylabel(\"variance\");"
   ]
  },
  {
   "cell_type": "markdown",
   "metadata": {},
   "source": [
    "* Eigenvalue analysis provides important information about the intrinsic data dimensionality\n",
    "* intrinsic dimensionality can of course be much lower!\n",
    "\n",
    "**Remarks**:\n",
    "* Eigenvalue analysis is purely variance-driven \n",
    "* no statement is made about the semantic content in the dimension\n",
    "* non-linear structures are 'by principle' not findable using PCA\n",
    "* Few large eigenvalues can maybe only contain useless noise...\n",
    "* Practical procedure requires particular tricks if very-high-dimensional data are given \n",
    " * e.g. images where $d$ may be up to $10^6$."
   ]
  }
 ],
 "metadata": {
  "hide_input": false,
  "kernelspec": {
   "display_name": "Python 3",
   "language": "python",
   "name": "python3"
  },
  "language_info": {
   "codemirror_mode": {
    "name": "ipython",
    "version": 3
   },
   "file_extension": ".py",
   "mimetype": "text/x-python",
   "name": "python",
   "nbconvert_exporter": "python",
   "pygments_lexer": "ipython3",
   "version": "3.6.3"
  },
  "widgets": {
   "state": {
    "1bba81e76cfb4f95bf0d8393e0343a0c": {
     "views": [
      {
       "cell_index": 3
      }
     ]
    }
   },
   "version": "1.2.0"
  }
 },
 "nbformat": 4,
 "nbformat_minor": 1
}
