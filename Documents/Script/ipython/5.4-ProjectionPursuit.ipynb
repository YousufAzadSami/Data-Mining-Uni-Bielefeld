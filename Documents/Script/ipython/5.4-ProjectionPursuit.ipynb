{
 "cells": [
  {
   "cell_type": "code",
   "execution_count": 1,
   "metadata": {
    "code_folding": []
   },
   "outputs": [],
   "source": [
    "## settings\n",
    "import matplotlib.pyplot as plt\n",
    "import numpy as np\n",
    "%matplotlib qt5\n",
    "import scipy, scipy.stats\n",
    "plt.rcParams['figure.figsize'] = (8.0, 4.0)\n",
    "from ipywidgets import interact, fixed\n",
    "%matplotlib inline"
   ]
  },
  {
   "cell_type": "markdown",
   "metadata": {},
   "source": [
    "$\\usepackage{amssymb} \\newcommand{\\R}{\\mathbb{R}} \\newcommand{\\vx}{\\vec{x}} \\newcommand{\\vy}{\\vec{y}} \\newcommand{\\vw}{\\vec{w}} \\newcommand{\\Wc}{{\\bf W}_c}$"
   ]
  },
  {
   "cell_type": "markdown",
   "metadata": {},
   "source": [
    "## 5.4. Further Projection Methods: Projection Pursuit"
   ]
  },
  {
   "cell_type": "markdown",
   "metadata": {},
   "source": [
    "### 5.4.1. Projection Pursuit"
   ]
  },
  {
   "cell_type": "markdown",
   "metadata": {},
   "source": [
    "* A simple way to find a low-dimensional projection is PCA.\n",
    "* The key disadvantage is that PCA is only variance based: no other structural property is respected.\n",
    "\n",
    "Generalization of the principle 'to maximize a criterion for well-structuredness' yields other (maybe) more meaningful projections.\n",
    "* central element is the measure for structuring ('Strukturbewertungsmaß')\n",
    "* Many structures manifest in the occurrence of local clustering\n",
    "<img src = \"images/cluster.png\" width=\"60%\">\n",
    "* the seemingly 'more structured' plot is characterized by\n",
    " * more short data point pair distances\n",
    " * while having the same global variance as the other plot.\n",
    "* a method that is only sensitive to variance can't assess any difference between these plots."
   ]
  },
  {
   "cell_type": "markdown",
   "metadata": {},
   "source": [
    "* The preference of projections that exhibit local clustering can be expressed via a specially-crafted structure-quality measure.\n",
    "* Here we first implement the idea for a projection on a 1D-axis $\\hat{k}$\n",
    "\n",
    "$$\n",
    "E(\\hat{k})= \\underbrace{s(\\hat{k})}_{\\text{global dispersion along } \\hat{k}} \n",
    "\\cdot \\underbrace{d(\\hat{k})}_{\\text{mean vicinity along }\\hat{k}}\n",
    "$$\n",
    "* by Friedman & Tukey 1974, IEEE Trans. Comp. C-23, 881ff.\n",
    "\n",
    "<img src=\"images/PP-1d.png\" width=\"60%\">\n",
    "* Illustration of the different structure quality of 1D-projections of a 2D dataset"
   ]
  },
  {
   "cell_type": "markdown",
   "metadata": {},
   "source": [
    "Here it is\n",
    "$$\n",
    "s(\\hat{k})=\\sqrt \\frac{\\sum\\limits_{i=p \\cdot N}^{(1-p)N} (\\vec{r}_i \\cdot \\hat{k}\n",
    "  -\\langle\\vec{r}\\rangle \\cdot \\hat{k})^2}{(1-2p)N}\n",
    "$$\n",
    "where \n",
    "\n",
    "\\begin{eqnarray}\n",
    "\\vec{r}_i \t\t& = & \\text{$i$-th data point $\\in \\R^d$ }\\\\\n",
    "\t\t\t&   & \\text{ sorted ascending in } ~ \\vec{r}_i \\hat{k}\\\\\n",
    "N \t\t\t& = & \\text{nr. of data points} \\\\\n",
    "p \t\t\t& \\ll & 1 \\text{ for removed outliers }\\\\\n",
    "\\langle r\\rangle & = & \\sum\\limits_{i=p \\cdot N}^{(1-p)N}\\frac{\\vec{r}_i }{(1-2p)N}\\\\\n",
    "d(\\hat{k}) \t\t& = & \\sum\\limits_{i,j=1 \\atop i<j}^N f(r_{ij}) \\cdot \\Theta (R-r_{ij}) \\\\\n",
    "r_{ij} \t\t\t& = & |\\vec{r}_i \\cdot \\hat{k} - \\vec{r}_j \\cdot \\hat{k}|\\\\\n",
    "\\end{eqnarray}"
   ]
  },
  {
   "cell_type": "code",
   "execution_count": 10,
   "metadata": {
    "code_folding": [
     0
    ]
   },
   "outputs": [
    {
     "data": {
      "image/png": "[encoded data removed]",
      "text/plain": [
       "<Figure size 864x144 with 1 Axes>"
      ]
     },
     "metadata": {},
     "output_type": "display_data"
    }
   ],
   "source": [
    "# plot f(r)\n",
    "plt.figure(figsize=(12,2))\n",
    "x = np.arange(0, np.pi/2, 0.01)\n",
    "plt.plot(x, np.cos(x), label=\"cutoff function f(r)\"); \n",
    "plt.axis([0,2,0,1.2]); plt.legend(); \n",
    "plt.xlabel(\"distance\"); plt.ylabel(\"f(r)\"); plt.text(1.56,-0.1, \"R\");"
   ]
  },
  {
   "cell_type": "markdown",
   "metadata": {},
   "source": [
    "* shape of cutoff function $f(r)$ in the above equation\n",
    "* The cutoff value $R$ defines the length up to which local clusterings shall be registered.\n",
    "* $R$ is fix so that in the double sum above only $O(N \\log N)$ terms contribute\n",
    " * this is done to reduce the computational effort.\n",
    "* The maximization of $E(\\hat{k})$ is done on the sphere surface $S^{D-1}$\n",
    " * generally there are many local maxima (very narrow, difficult to find)\n",
    " * good starting directions are given by PCA axes\n",
    " * because of the cut-off function $E(\\hat{k})$ is relatively smooth."
   ]
  },
  {
   "cell_type": "markdown",
   "metadata": {},
   "source": [
    "**Generalization to 2D-projections**:\n",
    "* either achieved by two-times applying the 1D method\n",
    " * i.e. the second axis is constraint to the orthogonal space of the first axis.\n",
    "* or direct minimization of an analogue defined structure quality measure for two directions $\\hat{k},\\hat{l}$, e.g. \n",
    "\n",
    "$$\n",
    "s(\\hat{k},\\hat{l}) = \\sqrt{\\sum (\\vec{r}_i \\hat{k} - \\langle\\vec{r}\\rangle \\hat{k})^2 +\n",
    "  (\\vec{r}_i \\hat{l} - \\langle\\vec{r}\\rangle \\hat{l})^2}\n",
    "$$\n",
    "and\n",
    "$$\n",
    "d(\\hat{k},\\hat{l}) = \\mbox{ wie zuvor, jedoch } r_{ij} = \\sqrt{(r_i \\hat{k}-\n",
    "  r_j \\hat{k})^2 + (r_i \\hat{l} - r_j \\hat{l})^2}\n",
    "$$"
   ]
  },
  {
   "cell_type": "markdown",
   "metadata": {},
   "source": [
    "### 5.4.2 Further propositions for projection indices "
   ]
  },
  {
   "cell_type": "markdown",
   "metadata": {},
   "source": [
    "**Point of departure**: statistical considerations: under all probability distributions of fixed variance $\\sigma^2$, the normal distribution $N(x,\\sigma)$ is the least informative\n",
    "* is describes for $n\\to\\infty$ the resulting distribution of the superposition of $n$ uncorrelated random vectors.\n",
    "* for that reason, a random projection converges always towards the normal distribution \n",
    "as limes $d \\to \\infty$\n",
    "* for the normal distribution we receive the highest value for the Shannon entropy\n",
    "\t$$ S(P) = -\\int P(x)\\log P(x) dx$$"
   ]
  },
  {
   "cell_type": "markdown",
   "metadata": {},
   "source": [
    "**Conclusion**:\n",
    "* The interestingness of a projected probabiltiy distribution $P(x)$ can thus be measured and judged by its deviation from a normal distribution.\n",
    "* w.l.o.g. the data can always be normalized so that $P(\\cdot)$ has mean 0 and variance 1\n",
    "* The deviation of $P$ from a normal distribution can be measured in different ways: (using $x=\\hat{k}\\cdot\\vec{r}$ in the following):\n",
    "\\begin{eqnarray}\n",
    "I_1 &:=& \\int \\frac{(P(x)-\\cal{N}(x,1))^2}{2\\cal{N}(x,1)} dx \\quad \\text{(Friedman (1987))} \\\\\n",
    "I_2 &:=& \\int (P(x)-{\\cal N}(x,1))^2 dx \\quad \\text{(Hall)} \\\\\n",
    "I_3 &:=& \\int (P(x)-{\\cal N}(x,1))^2 {\\cal N}(x,1) dx \\quad \\text{(Hermite Index)}\\\\\n",
    "\\end{eqnarray}"
   ]
  },
  {
   "cell_type": "markdown",
   "metadata": {},
   "source": [
    "**Interpretation**:\n",
    "* $I_1$ favors deviations in the tails of the distribution\n",
    "* $I_2$ offers a more balanced weighting of density differences at different $x$\n",
    "* $I_3$ regards deviations within the center as particularly relevant"
   ]
  },
  {
   "cell_type": "markdown",
   "metadata": {},
   "source": [
    "**Practical Procedure**:\n",
    "* Religio of integrals on expectation values by expansion of $P(x)$ in orthogonal polynoms\n",
    "$$\n",
    "P(x) = \\sum\\limits_{\\nu=0}^{\\infty} a_\\nu H_\\nu (x) ~ ~ \\text{(1)}\n",
    "$$"
   ]
  },
  {
   "cell_type": "markdown",
   "metadata": {},
   "source": [
    "** Example: Expansion of $I_3$ (Hermite Index)**:\n",
    "\n",
    "* In this case we choose $H_\\nu(x)$ as proportional to the so-called hermite polynomials.\n",
    "* At suitable scaling we can assert the following orthogonality relations:\n",
    "$$ \\int\\limits_{-\\infty}^\\infty H_\\mu (x) H_\\nu (x) N(x,1) dx = \\delta_{\\mu\\nu} $$\n",
    "* Integration of (1) after multiplying with $N(x,1)$ results in\n",
    "$$ a_\\mu = \\int P(x) H_\\mu (x) N(x,1) dx $$\n",
    "and thus\n",
    "$$ a_\\mu = \\langle H_\\mu (x) N(x,1)\\rangle_{\\text{all data}} $$\n",
    "\n",
    "Insertion into $I_3$, together with the expansion of $N$ according to \n",
    "$$ N(x,1) = \\sum\\limits_{\\mu=0}^\\infty b_\\mu H_\\mu (x)$$ \n",
    "in Hermite polynomials, under exploitation of the orthogonality relations \n",
    "$$\\langle H_\\mu H_\\nu\\rangle = \\delta_{ij}$$ gives:\n",
    "\n",
    "\\begin{eqnarray}\n",
    " I_3 &=& \\int (P(x)-N(x))^2 N(x) dx \\\\\n",
    "        &=& \\int\\left(\\left(\\sum_\\nu a_\\nu H_\\nu\\right)-\\left(\\sum_\\mu b_\\mu H_\\mu\\right)\\right)^2 N(x) dx\\\\\n",
    "        &=& \\int \\left[ \\sum\\limits_{\\mu\\nu} a_\\mu a_\\nu H_\\mu (x) H_\\nu (x) \\right.\n",
    "\t-  2\\sum\\limits_{\\mu\\nu} a_\\mu b_\\nu H_\\mu (x) H_\\nu (x)\\\\\n",
    "\t &&+ \\left.\\sum\\limits_{\\mu\\nu} b_\\mu b_\\nu H_\\mu (x) H_\\nu (x)  \\right] N(x,1) dx \\\\\n",
    "\t\t &=& \\sum\\limits_\\mu \\left[ a_\\mu^2 -2a_\\mu b_\\mu + b_\\mu^2 \\right] \n",
    "\t= \\sum\\limits_\\mu [a_\\mu - b_\\mu]^2\n",
    "\\end{eqnarray}\n",
    "\n",
    "* Practically, this series is stopped after few terms, e.g. directly after the leading term\n",
    "$$ I_3^0 = (a_o - b_0)^2 = (a_0 - \\frac{1}{2}\\sqrt{\\pi})^2 $$\n",
    "and \n",
    "$$ a_0 = \\langle H_0(x) N(x,1) \\rangle_P = \\langle N(x,1)\\rangle_P $$\n",
    "\n",
    "* Thus the evalution is reduced to the computation of expectation values $\\langle\\cdot\\rangle_P$ w.r.t. the probability density of the data under projection."
   ]
  },
  {
   "cell_type": "code",
   "execution_count": null,
   "metadata": {
    "collapsed": true
   },
   "outputs": [],
   "source": []
  }
 ],
 "metadata": {
  "kernelspec": {
   "display_name": "Python 3",
   "language": "python",
   "name": "python3"
  },
  "language_info": {
   "codemirror_mode": {
    "name": "ipython",
    "version": 3
   },
   "file_extension": ".py",
   "mimetype": "text/x-python",
   "name": "python",
   "nbconvert_exporter": "python",
   "pygments_lexer": "ipython3",
   "version": "3.6.8"
  }
 },
 "nbformat": 4,
 "nbformat_minor": 1
}
