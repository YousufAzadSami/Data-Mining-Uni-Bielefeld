{
 "cells": [
  {
   "cell_type": "code",
   "execution_count": 1,
   "metadata": {
    "code_folding": [
     0
    ]
   },
   "outputs": [
    {
     "name": "stdout",
     "output_type": "stream",
     "text": [
      "Populating the interactive namespace from numpy and matplotlib\n"
     ]
    }
   ],
   "source": [
    "#settings\n",
    "%pylab inline\n",
    "import scipy, scipy.stats\n",
    "pylab.rcParams['figure.figsize'] = (8.0, 4.0)\n",
    "from __future__ import print_function"
   ]
  },
  {
   "cell_type": "markdown",
   "metadata": {},
   "source": [
    "## 2.5 Linear Correlation\n",
    "\n",
    "* So far: discrete variables (nominal)\n",
    "* Now: continuous variables $\\to$ offer additional modes of dependency analysis\n",
    "\n",
    "** Most simple Measure**: _Linear Correlation Coefficient_ $r$\n",
    "\n",
    "** Given**: \n",
    "* paired random variables $X$, and $Y$ with sample $\\{(x_i, y_i)\\}_{i=1,\\dots, N}$\n",
    "\n",
    "<img src=\"images/LinKorrDef.png\" width=\"30%\">\n",
    "\n",
    "* $r$ is defined as: \n",
    "$$ r = \\frac{\\sum\\limits_i (x_i - \\bar{x})(y_i - \\bar{y})}{\\sqrt{\\sum\\limits_i (x_i - \\bar{x})^2}\\sqrt{\\sum\\limits_i(y_i - \\bar{y})^2}}$$\n",
    "where $\\bar{x}, \\bar{y}$ are the sample means of $x$ resp. $y$"
   ]
  },
  {
   "cell_type": "markdown",
   "metadata": {},
   "source": [
    "### Geometric interpretation as cos(angle between vectors)\n",
    "\n",
    "\n",
    "$$ r = \\cos\\left(\\angle ( \\hat{m}_x, \\hat{m}_y)\\right)  = \n",
    "\\frac{\\vec{m}_x \\cdot \\vec{m}_y}{\\|\\vec{m}_x\\| \\|\\vec{m}_y\\|}  =\n",
    "\\hat{m}_x \\cdot \\hat{m}_y\n",
    "$$\n",
    "with $\\hat{m}_x, \\hat{m}_y =$ vector of deviations of the mean \n",
    "$$ \\vec{m}_{x} = ((x_1-\\bar{x}),\\dots,(x_N-\\bar{x}))^T $$\n",
    "\n",
    "Thereby it is:\n",
    "\n",
    "* perfect correlation:\n",
    "$$ r=+1 \\Leftarrow  \\hat{m}_x = \\hat{m}_y \\Leftarrow  \\vec{m}_x, \\vec{m}_y~\\text{parallel}$$\n",
    "\n",
    "* perfect negative correlation:\n",
    "$$ r=-1 \\Leftarrow \\hat{m}_x = -\\hat{m}_y \\Leftarrow \\vec{m}_x, \\vec{m}_y~\\text{antiparallel}$$\n",
    "\n",
    "* no correlation:\n",
    "$$r=~0 \\Leftarrow  \\hat{m}_x~\\text{perpendicular/orthogonal on}~\\hat{m}_y $$\n"
   ]
  },
  {
   "cell_type": "markdown",
   "metadata": {},
   "source": [
    "**Attention:** even if $r=0$, the variables $x, y$ can exhibit a _nonlinear_ dependency! \n",
    "\n",
    "** Example **:\n",
    "\n",
    "$\\displaystyle x_k = \\sin\\left(\\frac{2\\pi}{N}k\\right)$ and \n",
    "$\\displaystyle y_k = \\cos\\left(\\frac{2\\pi}{N}k\\right)$ for $k = 0,\\dots,(N-1)$.\n",
    "\n",
    "Obviously $\\bar{x}=\\bar{y} = 0$\n",
    "\n",
    "But we derive:\n",
    "$$ r \\propto \\sum\\limits_{k=0}^{N-1} x_k y_k $$\n",
    "$$ = \\sum\\limits_{k=0}^{N-1}\\sin\\left(\\frac{2\\pi}{N}k\\right)\\cos\\left(\\frac{2\\pi}{N}k\\right)$$\n",
    "$$ r = \\frac{1}{2} \\sum\\limits_{k=0}^{N-1}\\sin\\left(\\frac{4\\pi}{N}k\\right) = 0 $$"
   ]
  },
  {
   "cell_type": "code",
   "execution_count": 12,
   "metadata": {
    "code_folding": []
   },
   "outputs": [
    {
     "data": {
      "image/png": "[encoded data removed]",
      "text/plain": [
       "<Figure size 432x288 with 1 Axes>"
      ]
     },
     "metadata": {},
     "output_type": "display_data"
    }
   ],
   "source": [
    "# %pylab inline\n",
    "N = 30\n",
    "x = [sin(2*pi/N*k) for k in range(0,N)]\n",
    "y = [cos(2*pi/N*k) for k in range(0,N)]\n",
    "plot(x,y,\"o\")\n",
    "axis('equal'); grid();"
   ]
  },
  {
   "cell_type": "markdown",
   "metadata": {},
   "source": [
    "* yet obviously there is a _nonlinear_ dependency $x^2_k + y^2_k =1$!"
   ]
  },
  {
   "cell_type": "markdown",
   "metadata": {},
   "source": [
    "Geometric Interpretation as Optimization Error \n",
    "\n",
    "* Find the best linear description of typ $y(x_i) = f(x) = ax_i+b$\n",
    "* optimal values (estimators) for $a, b$ are the result of a minimization of \n",
    "$$\t\\chi^2(a,b) := \\sum\\limits_{i=1}^N (y_i - a x_i -b)^2 $$\n",
    "w.r.t. the parameters $a$ und $b$. \n",
    "\n",
    "<img src=\"images/LinKorrOpt.png\" width=\"40%\">\n",
    "\n",
    "* Note: as exercise, calculate from $\\frac{\\partial\\chi^2}{\\partial a} = 0 $ \n",
    "and $\\frac{\\partial\\chi^2}{\\partial b} = 0$ \n",
    "the optimal values for $a,b$ and the minimal approximation error.}\n",
    "\n",
    "With best fit parameters $a, b$, it is:  \n",
    "$$  \\chi^2_{\\min} = (1-r^2) \\sum\\limits^N_{i=1}(y_i - \\bar{y})^2 $$\n",
    "* i.e. $(1-r^2)N\\cdot \\text{Var}(y)$"
   ]
  },
  {
   "cell_type": "markdown",
   "metadata": {},
   "source": [
    "### 2.5.1. Statistical Interpretation of r\n",
    "\n",
    "r is a weak statistic: only with restriction, i.e. assumptions on the distribution of the data can we derive statistical statements about the rejectability of the null hypothesis.\n",
    "\n",
    "** Assumption A1**\n",
    "\n",
    "Let $x,y$ be normal distributed and $N$ large. Then it is\n",
    "\n",
    "$$ P(|r|>r_{\\text{beob}}) = \\text{erfc}\\left( \\frac{|r_{\\text{beob}}|\\sqrt{N}}{\\sqrt{2}}  \\right) $$\n",
    "\n",
    "* We already know this function since \n",
    "$\\Gamma(0.5, x^2) = \\sqrt{\\pi}\\text{erfc}(x)$\n",
    "and $\\displaystyle \\Gamma(s,x) = \\int_x^\\infty t^{s-1}e^{-t}dt$.\n",
    "\n",
    "** Assumption A2**\n",
    "\n",
    "Under the (often valid) assumption of a two-dimensional Gaussian distribution\n",
    "$$ p(x,y) \\propto \\exp\\left(-\\frac{1}{2}(a_{11}x^2 - 2a_{12}xy + a_{22}y^2)\\right) $$\n",
    "the derived statistic \n",
    "$$ t = r \\sqrt{\\frac{N-2}{1-r^2}} $$\n",
    "is Student-t-distributed with $N-2$ degrees of freedom (under valid $H_0$).\n",
    "\n",
    "* Note that $(1-A(\\hat{t}, N-2))$ then delivers – analogue to the t-test – the probability of error that the null hypothesis is rejected although true. "
   ]
  },
  {
   "cell_type": "code",
   "execution_count": null,
   "metadata": {},
   "outputs": [],
   "source": []
  }
 ],
 "metadata": {
  "hide_input": false,
  "kernelspec": {
   "display_name": "Python 3",
   "language": "python",
   "name": "python3"
  },
  "language_info": {
   "codemirror_mode": {
    "name": "ipython",
    "version": 3
   },
   "file_extension": ".py",
   "mimetype": "text/x-python",
   "name": "python",
   "nbconvert_exporter": "python",
   "pygments_lexer": "ipython3",
   "version": "3.6.3"
  }
 },
 "nbformat": 4,
 "nbformat_minor": 1
}
